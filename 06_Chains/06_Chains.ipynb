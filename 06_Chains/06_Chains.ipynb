{
 "cells": [
  {
   "cell_type": "markdown",
   "metadata": {
    "colab_type": "text",
    "id": "view-in-github"
   },
   "source": [
    "<a href=\"https://colab.research.google.com/github/sugarforever/wtf-langchain/blob/main/06_Chains/06_Chains.ipynb\" target=\"_parent\"><img src=\"https://colab.research.google.com/assets/colab-badge.svg\" alt=\"Open In Colab\"/></a>"
   ]
  },
  {
   "cell_type": "code",
   "execution_count": null,
   "metadata": {
    "colab": {
     "base_uri": "https://localhost:8080/"
    },
    "id": "xlgJ4rFm-CS6",
    "outputId": "34b4e603-900f-443c-e7cb-d91050575e29"
   },
   "outputs": [],
   "source": [
    "pip install langchain==0.3.7\n",
    "pip install langchain-chroma==0.1.4\n",
    "pip install langchain-community==0.3.5\n",
    "pip install langchain-core==0.3.18\n",
    "pip install langchain-huggingface==0.1.2\n",
    "pip install langchain-ollama==0.2.0\n",
    "pip install langchain-openai==0.2.8\n",
    "pip install langchain-text-splitters==0.3.2"
   ]
  },
  {
   "cell_type": "code",
   "execution_count": 2,
   "metadata": {
    "id": "1ILWDRoJ-NmX"
   },
   "outputs": [],
   "source": [
    "from langchain_openai import OpenAI, ChatOpenAI\n",
    "from langchain_core.prompts import PromptTemplate\n",
    "from langchain_ollama import OllamaLLM, ChatOllama\n",
    "from langchain_core.output_parsers import StrOutputParser\n",
    "from langchain.chains import LLMChain\n",
    "from langchain import hub"
   ]
  },
  {
   "cell_type": "code",
   "execution_count": null,
   "metadata": {},
   "outputs": [],
   "source": [
    "llm = OllamaLLM(temperature=0, model=\"qwen2.5:14b\")\n",
    "prompt = PromptTemplate(\n",
    "    input_variables=[\"color\"],\n",
    "    template=\"{color}的十六进制代码是什么？\",\n",
    ")"
   ]
  },
  {
   "cell_type": "code",
   "execution_count": 3,
   "metadata": {
    "colab": {
     "base_uri": "https://localhost:8080/"
    },
    "id": "wPxzrJm230v0",
    "outputId": "e850bb26-1bd8-4826-d05c-0435f223a047"
   },
   "outputs": [],
   "source": [
    "chain = prompt | llm | StrOutputParser()"
   ]
  },
  {
   "cell_type": "code",
   "execution_count": 4,
   "metadata": {
    "colab": {
     "base_uri": "https://localhost:8080/"
    },
    "id": "9VmPzVQk4Flb",
    "outputId": "f5fce095-de2c-47c8-a051-b024e16a92da"
   },
   "outputs": [
    {
     "name": "stdout",
     "output_type": "stream",
     "text": [
      "看起来像是没有直接给出答案。实际上，常见的绿色在网页设计和计算机科学中的十六进制代码是 #008000（纯正绿色），不过也有许多其他不同的绿色色调。如果你指的是标准的颜色名称“Green”或“Lime”，它们的十六进制代码分别是：\n",
      "\n",
      "- 绿色 (Green): #008000\n",
      "- 柠檬绿 (Lime): #32CD32\n",
      "\n",
      "当然，还有无数种其他的绿色变体，每一种都有其独特的十六进制代码。如果你有特定类型的绿色在寻找，请提供更多的细节以便给出更准确的答案。\n",
      " 青色在不同的文化和语境中有不同的含义，但通常所说的“青”在中国传统色彩中指的是介于蓝和绿之间的颜色。如果要指定一个接近中国传统意义上的“青”的十六进制颜色代码，可以使用 #48D1CC 这个值，它是一种偏蓝色调的青色。不过需要注意的是，“青”这个概念在不同的语境下可能对应不同的具体颜色，因此也有其他版本的颜色代码可以代表“青”，例如更偏向绿色的青色可以用 #7FFF00 表示。\n",
      " \n",
      "\n",
      "您的问题似乎没有提供足够的信息来确定“张三”的十六进制代码。通常，十六进制代码用于表示计算机中的数据或内存地址，并且与特定的人名无关。如果您是指某个人的名字或者身份标识符的十六进制形式，请提供更多上下文信息以便我能更好地帮助您。例如，如果这是一个用户名、身份证号或者其他具体的信息，请提供详细情况。\n"
     ]
    }
   ],
   "source": [
    "print(chain.invoke(\"绿色\"))\n",
    "print(chain.invoke(\"青色\"))\n",
    "print(chain.invoke(\"张三\"))"
   ]
  },
  {
   "cell_type": "markdown",
   "metadata": {},
   "source": [
    "### LangChainHub"
   ]
  },
  {
   "cell_type": "code",
   "execution_count": 5,
   "metadata": {
    "colab": {
     "base_uri": "https://localhost:8080/"
    },
    "id": "3DxFcpAn_Oy7",
    "outputId": "e2337345-c47f-4daf-83ca-6a52674a5476"
   },
   "outputs": [],
   "source": [
    "prompt = hub.pull(\"demiurg/math_reasoning_prompt\",api_key='ollama')"
   ]
  },
  {
   "cell_type": "code",
   "execution_count": 6,
   "metadata": {},
   "outputs": [
    {
     "data": {
      "text/plain": [
       "PromptTemplate(input_variables=['input'], input_types={}, partial_variables={}, metadata={'lc_hub_owner': 'demiurg', 'lc_hub_repo': 'math_reasoning_prompt', 'lc_hub_commit_hash': 'de4d069cc5878b592bd993419a2bc336f18d8b84fb12befbadaef4222dc3d972'}, template=\"You are a reasoning agent tasked with solving \\nthe user's logic-based questions. Logically arrive at the solution, and be \\nfactual. In your answers, clearly detail the steps involved and give the \\nfinal answer. Provide the response in bullet points. \\nQuestion:  {input} \\nAnswer: \")"
      ]
     },
     "execution_count": 6,
     "metadata": {},
     "output_type": "execute_result"
    }
   ],
   "source": [
    "prompt"
   ]
  },
  {
   "cell_type": "code",
   "execution_count": 7,
   "metadata": {},
   "outputs": [],
   "source": [
    "llm = ChatOpenAI(temperature=0, model_name=\"qwen2.5:14b\", openai_api_key='ollama', openai_api_base='http://localhost:11434/v1')"
   ]
  },
  {
   "cell_type": "code",
   "execution_count": 8,
   "metadata": {},
   "outputs": [],
   "source": [
    "chain = prompt | llm | StrOutputParser()"
   ]
  },
  {
   "cell_type": "code",
   "execution_count": 9,
   "metadata": {
    "colab": {
     "base_uri": "https://localhost:8080/",
     "height": 147
    },
    "id": "LPsc-9ec_amC",
    "outputId": "cd246745-afda-4d06-bfe5-7f963ccec5ad"
   },
   "outputs": [
    {
     "data": {
      "text/plain": [
       "\" - The question asks for the area of a circle given its radius, so let's solve it step-by-step.\\n\\n- Step 1: Recall the formula for calculating the area of a circle.\\n    - Area = π * r^2, where r is the radius of the circle and π (pi) is approximately 3.14159.\\n- Step 2: Substitute the given value into the formula.\\n    - Here, the radius (r) = 2 units.\\n    - Therefore, Area = π * (2)^2\\n- Step 3: Calculate the area.\\n    - Area = π * 4\\n    - Using π ≈ 3.14159, we get:\\n        - Area ≈ 3.14159 * 4\\n        - Area ≈ 12.56636 square units\\n\\n- Final Answer: The area of the circle with radius 2 is approximately 12.57 square units (rounded to two decimal places).\""
      ]
     },
     "execution_count": 9,
     "metadata": {},
     "output_type": "execute_result"
    }
   ],
   "source": [
    "chain.invoke(\"whats the area of a circle with radius 2?\")"
   ]
  },
  {
   "cell_type": "code",
   "execution_count": 10,
   "metadata": {},
   "outputs": [
    {
     "name": "stdout",
     "output_type": "stream",
     "text": [
      " - The question asks for the area of a circle given its radius, so let's solve it step-by-step.\n",
      "\n",
      "- Step 1: Recall the formula for calculating the area of a circle.\n",
      "    - Area = π * r^2, where r is the radius of the circle and π (pi) is approximately 3.14159.\n",
      "- Step 2: Substitute the given value into the formula.\n",
      "    - Here, the radius (r) = 2 units.\n",
      "    - Therefore, Area = π * (2)^2\n",
      "- Step 3: Calculate the area.\n",
      "    - Area = π * 4\n",
      "    - Using π ≈ 3.14159, we get:\n",
      "        - Area ≈ 3.14159 * 4\n",
      "        - Area ≈ 12.56636 square units\n",
      "\n",
      "- Final Answer: The area of the circle with radius 2 is approximately 12.57 square units (rounded to two decimal places).\n"
     ]
    }
   ],
   "source": [
    "print(\" - The question asks for the area of a circle given its radius, so let's solve it step-by-step.\\n\\n- Step 1: Recall the formula for calculating the area of a circle.\\n    - Area = π * r^2, where r is the radius of the circle and π (pi) is approximately 3.14159.\\n- Step 2: Substitute the given value into the formula.\\n    - Here, the radius (r) = 2 units.\\n    - Therefore, Area = π * (2)^2\\n- Step 3: Calculate the area.\\n    - Area = π * 4\\n    - Using π ≈ 3.14159, we get:\\n        - Area ≈ 3.14159 * 4\\n        - Area ≈ 12.56636 square units\\n\\n- Final Answer: The area of the circle with radius 2 is approximately 12.57 square units (rounded to two decimal places).\")"
   ]
  }
 ],
 "metadata": {
  "colab": {
   "authorship_tag": "ABX9TyMjzTlk9UUE+H/AN/ASt+Te",
   "include_colab_link": true,
   "provenance": []
  },
  "kernelspec": {
   "display_name": "langchain",
   "language": "python",
   "name": "langchain"
  },
  "language_info": {
   "codemirror_mode": {
    "name": "ipython",
    "version": 3
   },
   "file_extension": ".py",
   "mimetype": "text/x-python",
   "name": "python",
   "nbconvert_exporter": "python",
   "pygments_lexer": "ipython3",
   "version": "3.9.20"
  }
 },
 "nbformat": 4,
 "nbformat_minor": 4
}
