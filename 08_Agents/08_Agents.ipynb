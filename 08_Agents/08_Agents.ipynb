{
 "cells": [
  {
   "cell_type": "markdown",
   "metadata": {
    "colab_type": "text",
    "id": "view-in-github"
   },
   "source": [
    "<a href=\"https://colab.research.google.com/github/sugarforever/wtf-langchain/blob/main/08_Agents/08_Agents.ipynb\" target=\"_parent\"><img src=\"https://colab.research.google.com/assets/colab-badge.svg\" alt=\"Open In Colab\"/></a>"
   ]
  },
  {
   "cell_type": "markdown",
   "metadata": {
    "id": "GIUvp6uXWAcn"
   },
   "source": [
    "# LangChain Agent 示例"
   ]
  },
  {
   "cell_type": "markdown",
   "metadata": {
    "id": "h4Ps0wdmWFGh"
   },
   "source": [
    "## 准备环境"
   ]
  },
  {
   "cell_type": "markdown",
   "metadata": {
    "id": "E8OKcwR6VdHL"
   },
   "source": [
    "1. 安装langchain-community版本0.3.7"
   ]
  },
  {
   "cell_type": "code",
   "execution_count": 16,
   "metadata": {
    "id": "yDa7VdF9SlAm"
   },
   "outputs": [],
   "source": [
    "pip install langchain==0.3.7\n",
    "pip install langchain-chroma==0.1.4\n",
    "pip install langchain-community==0.3.5\n",
    "pip install langchain-core==0.3.18\n",
    "pip install langchain-huggingface==0.1.2\n",
    "pip install langchain-ollama==0.2.0\n",
    "pip install langchain-openai==0.2.8\n",
    "pip install langchain-text-splitters==0.3.2"
   ]
  },
  {
   "cell_type": "markdown",
   "metadata": {
    "id": "WgipamGdVnYL"
   },
   "source": [
    "2. 安装duckduckgo-search包\n",
    "  \n",
    "  在使用DuckDuckGoSearchRun这个类时会需要这个python包。"
   ]
  },
  {
   "cell_type": "code",
   "execution_count": 17,
   "metadata": {
    "id": "faW8Qfw1TJaf"
   },
   "outputs": [],
   "source": [
    "pip install -q -U duckduckgo-search"
   ]
  },
  {
   "cell_type": "markdown",
   "metadata": {
    "id": "i0wXx4wfWIjF"
   },
   "source": [
    "## 示例代码"
   ]
  },
  {
   "cell_type": "markdown",
   "metadata": {
    "id": "lEPqka5QWcph"
   },
   "source": [
    "### Tool"
   ]
  },
  {
   "cell_type": "markdown",
   "metadata": {
    "id": "xnhIUB4rVTmZ"
   },
   "source": [
    "1. 通过工具类创建工具实例"
   ]
  },
  {
   "cell_type": "code",
   "execution_count": 6,
   "metadata": {
    "colab": {
     "base_uri": "https://localhost:8080/",
     "height": 202
    },
    "id": "u7Qj56OFTMus",
    "outputId": "f011f0da-5687-4978-cbc6-bcf2e5fd0930"
   },
   "outputs": [
    {
     "data": {
      "text/plain": [
       "\"2018年国际足总世界杯决赛于2018年7月15日当地时间下午6时在俄罗斯莫斯科 卢日尼基体育场举行，以决出2018年国际足总世界杯的冠军归属 [4] 。 比赛由法国对克罗地亚，这是世界杯历史上第9次由两支欧洲球队争夺冠军。 同时，这是法国继1998年和2006年后再次晋级决赛，而克罗地亚则是首次参与世界杯 ... 2018年国际足联世界杯（ 2018 FIFA World Cup ）为第21届国际足联世界杯的赛事，于2018年6月14日至7月15日在俄罗斯举行，共进行64场赛事。. 国际足联将2018年与2022年世界杯申办程序一并进行，2018年世界杯的正式申办国家包括：英格兰、俄罗斯、比利时与荷兰（联合申办）及西班牙与葡萄牙（联合申办）。 2018年國際足協世界盃（ 2018 FIFA World Cup ）為第21屆國際足協世界盃的賽事，於2018年6月14日至7月15日在俄羅斯舉行，共進行64場賽事。. 國際足協將2018年與2022年世界盃申辦程序一併進行，2018年世界盃的正式申辦國家包括：英格蘭、俄羅斯、比利時與荷蘭（聯合申辦）及西班牙與葡萄牙（聯合申辦）。 Saudi Arabia's state oil giant Aramco and world football governing body FIFA on Thursday announced a major sponsorship agreement until the end of 2027.... more » 05.02.2024 00:05 France beat Croatia 4-2 to claim a second title after a frenetic FIFA World Cup final at the Luzhniki Stadium in Moscow. The controversial match was the highest-scoring World Cup final since England beat West Germany 4-2 at Wembley in 1966. Russia 2018 was the first tournament to use the Video Assistant Referee (VAR).\""
      ]
     },
     "execution_count": 6,
     "metadata": {},
     "output_type": "execute_result"
    }
   ],
   "source": [
    "from langchain_community.tools import DuckDuckGoSearchRun\n",
    "\n",
    "search = DuckDuckGoSearchRun()\n",
    "search.invoke(\"谁是 2018 年 FIFA 世界杯冠军？\")"
   ]
  },
  {
   "cell_type": "markdown",
   "metadata": {
    "id": "8yK-vVhIVV8L"
   },
   "source": [
    "2. 通过辅助函数 `load_tools` 加载"
   ]
  },
  {
   "cell_type": "code",
   "execution_count": 15,
   "metadata": {
    "colab": {
     "base_uri": "https://localhost:8080/",
     "height": 202
    },
    "id": "gHfGofDRV4Nn",
    "outputId": "22e3433d-38fb-4d7f-ef4e-c4d7a16b2c89"
   },
   "outputs": [
    {
     "data": {
      "text/plain": [
       "'2018年国际足总世界杯决赛于2018年7月15日当地时间下午6时在俄罗斯莫斯科 卢日尼基体育场举行，以决出2018年国际足总世界杯的冠军归属 [4] 。 比赛由法国对克罗地亚，这是世界杯历史上第9次由两支欧洲球队争夺冠军。 同时，这是法国继1998年和2006年后再次晋级决赛，而克罗地亚则是首次参与世界杯 ... 2018年國際足協世界盃決賽於2018年7月15日當地時間下午6時在俄羅斯莫斯科 卢日尼基体育场舉行，以決出2018年國際足協世界盃的冠軍歸屬 [4] 。 比賽由法國對克羅地亞，這是世界盃歷史上第9次由兩支歐洲球隊爭奪冠軍。 同時，這是法國繼1998年和2006年後再次晉身決賽，而克羅地亞則是首次參與世界盃 ... 2018年國際足協世界盃（ 2018 FIFA World Cup ）為第21屆國際足協世界盃的賽事，於2018年6月14日至7月15日在俄羅斯舉行，共進行64場賽事。. 國際足協將2018年與2022年世界盃申辦程序一併進行，2018年世界盃的正式申辦國家包括：英格蘭、俄羅斯、比利時與荷蘭（聯合申辦）及西班牙與葡萄牙（聯合申辦）。 France beat Croatia 4-2 to claim a second title after a frenetic FIFA World Cup final at the Luzhniki Stadium in Moscow. The controversial match was the highest-scoring World Cup final since England beat West Germany 4-2 at Wembley in 1966. Russia 2018 was the first tournament to use the Video Assistant Referee (VAR). 1、2018年俄罗斯世界杯（英语：2018 FIFA World Cup，俄语：Чемпиона?т ми?ра по футбо?лу 2018）是国际足联世界杯足球赛举办的第21届赛事。 比赛于2018年6月14日至7月15日在俄罗斯举行，这是世界杯首次在俄罗斯境内举行，亦是世界杯首次在东欧国家举行。'"
      ]
     },
     "execution_count": 15,
     "metadata": {},
     "output_type": "execute_result"
    }
   ],
   "source": [
    "from langchain_community.agent_toolkits.load_tools import load_tools\n",
    "\n",
    "tools = load_tools(['ddg-search'])\n",
    "search = tools[0]\n",
    "search.run(\"谁是 2018 年 FIFA 世界杯冠军？\")"
   ]
  },
  {
   "cell_type": "markdown",
   "metadata": {
    "id": "zuNvBf2uWSMv"
   },
   "source": [
    "3. 查看 `LangChain` 内置支持的工具列表"
   ]
  },
  {
   "cell_type": "code",
   "execution_count": 16,
   "metadata": {
    "colab": {
     "base_uri": "https://localhost:8080/"
    },
    "id": "pWjMoK-daWl8",
    "outputId": "8fc38cde-4038-44e3-cc06-8c9a2e870180"
   },
   "outputs": [
    {
     "data": {
      "text/plain": [
       "['sleep',\n",
       " 'wolfram-alpha',\n",
       " 'google-search',\n",
       " 'google-search-results-json',\n",
       " 'searx-search-results-json',\n",
       " 'bing-search',\n",
       " 'metaphor-search',\n",
       " 'ddg-search',\n",
       " 'google-lens',\n",
       " 'google-serper',\n",
       " 'google-scholar',\n",
       " 'google-finance',\n",
       " 'google-trends',\n",
       " 'google-jobs',\n",
       " 'google-serper-results-json',\n",
       " 'searchapi',\n",
       " 'searchapi-results-json',\n",
       " 'serpapi',\n",
       " 'dalle-image-generator',\n",
       " 'twilio',\n",
       " 'searx-search',\n",
       " 'merriam-webster',\n",
       " 'wikipedia',\n",
       " 'arxiv',\n",
       " 'golden-query',\n",
       " 'pubmed',\n",
       " 'human',\n",
       " 'awslambda',\n",
       " 'stackexchange',\n",
       " 'sceneXplain',\n",
       " 'graphql',\n",
       " 'openweathermap-api',\n",
       " 'dataforseo-api-search',\n",
       " 'dataforseo-api-search-json',\n",
       " 'eleven_labs_text2speech',\n",
       " 'google_cloud_texttospeech',\n",
       " 'read_file',\n",
       " 'reddit_search',\n",
       " 'news-api',\n",
       " 'tmdb-api',\n",
       " 'podcast-api',\n",
       " 'memorize',\n",
       " 'llm-math',\n",
       " 'open-meteo-api',\n",
       " 'requests',\n",
       " 'requests_get',\n",
       " 'requests_post',\n",
       " 'requests_patch',\n",
       " 'requests_put',\n",
       " 'requests_delete',\n",
       " 'terminal']"
      ]
     },
     "execution_count": 16,
     "metadata": {},
     "output_type": "execute_result"
    }
   ],
   "source": [
    "from langchain_community.agent_toolkits.load_tools import get_all_tool_names\n",
    "\n",
    "get_all_tool_names()"
   ]
  },
  {
   "cell_type": "markdown",
   "metadata": {
    "id": "IITv5SLpcNi8"
   },
   "source": [
    "### Agent"
   ]
  },
  {
   "cell_type": "markdown",
   "metadata": {
    "id": "q8y0lMWIWt4m"
   },
   "source": [
    "一个 `Agent` 的例子"
   ]
  },
  {
   "cell_type": "code",
   "execution_count": 5,
   "metadata": {
    "colab": {
     "base_uri": "https://localhost:8080/",
     "height": 407
    },
    "id": "1rkToli6cSlT",
    "outputId": "447ab4e9-845e-4bfa-d173-09a04c95c21a"
   },
   "outputs": [
    {
     "name": "stdout",
     "output_type": "stream",
     "text": [
      "\n",
      "\n",
      "\u001b[1m> Entering new AgentExecutor chain...\u001b[0m\n",
      "\u001b[32;1m\u001b[1;3m I should use a calculator to find the height difference.\n",
      "Action: Calculator\n",
      "Action Input: Eiffel Tower height - Taiwan 101 Tower height\u001b[0m\n",
      "Observation: \u001b[33;1m\u001b[1;3mAnswer: -184000\u001b[0m\n",
      "Thought:\u001b[32;1m\u001b[1;3m I should convert the answer to meters.\n",
      "Action: Calculator\n",
      "Action Input: -184000 * 0.3048\u001b[0m\n",
      "Observation: \u001b[33;1m\u001b[1;3mAnswer: -56083.200000000004\u001b[0m\n",
      "Thought:\u001b[32;1m\u001b[1;3m I should take the absolute value of the answer.\n",
      "Action: Calculator\n",
      "Action Input: abs(-56083.200000000004)\u001b[0m\n",
      "Observation: \u001b[33;1m\u001b[1;3mAnswer: 56083.200000000004\u001b[0m\n",
      "Thought:\u001b[32;1m\u001b[1;3m I now know the final answer.\n",
      "Final Answer: The height difference between Eiffel Tower and Taiwan 101 Tower is 56083.200000000004 meters.\u001b[0m\n",
      "\n",
      "\u001b[1m> Finished chain.\u001b[0m\n"
     ]
    },
    {
     "data": {
      "text/plain": [
       "'The height difference between Eiffel Tower and Taiwan 101 Tower is 56083.200000000004 meters.'"
      ]
     },
     "execution_count": 5,
     "metadata": {},
     "output_type": "execute_result"
    }
   ],
   "source": [
    "from langchain_community.agent_toolkits.load_tools import load_tools\n",
    "from langchain.agents import initialize_agent\n",
    "from langchain.agents import AgentType\n",
    "from langchain.agents import create_tool_calling_agent\n",
    "from langchain.llms import OpenAI\n",
    "from langchain_core.prompts import PromptTemplate\n",
    "\n",
    "model = OpenAI(temperature=0, openai_api_key=\"sk-svcacct-rdZfMN9R1l5ZRqxw8JxNkxzMURoGcHqhCIG14t30KAWRT3BlbkFJJh84k-KOXvGmEurY2Yorab0Uf0kvMeWxanQI85F4WgoA\")\n",
    "tools = load_tools([\"ddg-search\", \"llm-math\"], llm=model)\n",
    "agent = initialize_agent(tools, model, agent=AgentType.ZERO_SHOT_REACT_DESCRIPTION, verbose=True)\n",
    "agent.run(\"What is the height difference between Eiffel Tower and Taiwan 101 Tower?\")"
   ]
  }
 ],
 "metadata": {
  "colab": {
   "authorship_tag": "ABX9TyMl2q/nwBstRfIi1uOWucfB",
   "include_colab_link": true,
   "provenance": []
  },
  "kernelspec": {
   "display_name": "langchain",
   "language": "python",
   "name": "langchain"
  },
  "language_info": {
   "codemirror_mode": {
    "name": "ipython",
    "version": 3
   },
   "file_extension": ".py",
   "mimetype": "text/x-python",
   "name": "python",
   "nbconvert_exporter": "python",
   "pygments_lexer": "ipython3",
   "version": "3.9.20"
  }
 },
 "nbformat": 4,
 "nbformat_minor": 4
}
