{
 "cells": [
  {
   "cell_type": "markdown",
   "metadata": {
    "colab_type": "text",
    "id": "view-in-github"
   },
   "source": [
    "<a href=\"https://colab.research.google.com/github/sugarforever/wtf-langchain/blob/main/10_Example/10_Example.ipynb\" target=\"_parent\"><img src=\"https://colab.research.google.com/assets/colab-badge.svg\" alt=\"Open In Colab\"/></a>"
   ]
  },
  {
   "cell_type": "markdown",
   "metadata": {
    "id": "69PRFT6WO-oK"
   },
   "source": [
    "# 一个完整的例子\n",
    "\n",
    "这是该 `LangChain` 极简入门系列的最后一讲。我们将利用过去9讲学习的知识，来完成一个具备完整功能集的LLM应用。该应用基于 `LangChain` 框架，以某 `PDF` 文件的内容为知识库，提供给用户基于该文件内容的问答能力。\n",
    "\n",
    "我们利用 `LangChain` 的QA chain，结合 `Chroma` 来实现PDF文档的语义化搜索。示例代码所引用的是[AWS Serverless\n",
    "Developer Guide](https://docs.aws.amazon.com/pdfs/serverless/latest/devguide/serverless-core.pdf)，该PDF文档共84页。"
   ]
  },
  {
   "cell_type": "markdown",
   "metadata": {
    "id": "OBehQYkOPPWe"
   },
   "source": [
    "1. 安装必要的 `Python` 包"
   ]
  },
  {
   "cell_type": "code",
   "execution_count": null,
   "metadata": {
    "colab": {
     "base_uri": "https://localhost:8080/"
    },
    "id": "_amYPxT-PULc",
    "outputId": "d3d7515d-b214-4140-b39b-a9a209cf00b9"
   },
   "outputs": [],
   "source": [
    "pip install langchain-ollama==0.2.0\n",
    "pip install chromadb \n",
    "pip install pymupdf \n",
    "pip install tiktoken"
   ]
  },
  {
   "cell_type": "markdown",
   "metadata": {
    "id": "8aB0OBRFP5FC"
   },
   "source": [
    "3. 下载PDF文件AWS Serverless Developer Guide"
   ]
  },
  {
   "cell_type": "code",
   "execution_count": null,
   "metadata": {
    "colab": {
     "base_uri": "https://localhost:8080/"
    },
    "id": "zF-PFO9BP6wr",
    "outputId": "1d761def-1df0-4043-f00e-be6dd913f1b2"
   },
   "outputs": [],
   "source": [
    "!wget https://docs.aws.amazon.com/pdfs/serverless/latest/devguide/serverless-core.pdf\n",
    "\n",
    "PDF_NAME = 'serverless-core.pdf'"
   ]
  },
  {
   "cell_type": "markdown",
   "metadata": {
    "id": "WqBDCt0HQFAA"
   },
   "source": [
    "4. 加载PDF文件"
   ]
  },
  {
   "cell_type": "code",
   "execution_count": 1,
   "metadata": {
    "colab": {
     "base_uri": "https://localhost:8080/"
    },
    "id": "bniPzdhUQSlw",
    "outputId": "01342468-bef4-4e9f-9b56-1ab6eac65ab4"
   },
   "outputs": [
    {
     "name": "stdout",
     "output_type": "stream",
     "text": [
      "There are 91 document(s) in ./serverless-core.pdf.\n",
      "There are 112 characters in the first page of your document.\n"
     ]
    }
   ],
   "source": [
    "from langchain_community.document_loaders import PyMuPDFLoader\n",
    "\n",
    "pdf_path = './serverless-core.pdf'\n",
    "docs = PyMuPDFLoader(pdf_path).load()\n",
    "\n",
    "print (f'There are {len(docs)} document(s) in {pdf_path}.')\n",
    "print (f'There are {len(docs[0].page_content)} characters in the first page of your document.')"
   ]
  },
  {
   "cell_type": "markdown",
   "metadata": {
    "id": "V9kvXY9uQ1mI"
   },
   "source": [
    "5. 拆分文档并存储文本嵌入的向量数据"
   ]
  },
  {
   "cell_type": "code",
   "execution_count": 2,
   "metadata": {
    "id": "G4d8cwQTQ2fa"
   },
   "outputs": [
    {
     "name": "stderr",
     "output_type": "stream",
     "text": [
      "/Users/wangwenbin/Environment/miniconda/envs/langchain/lib/python3.9/site-packages/sentence_transformers/cross_encoder/CrossEncoder.py:13: TqdmWarning: IProgress not found. Please update jupyter and ipywidgets. See https://ipywidgets.readthedocs.io/en/stable/user_install.html\n",
      "  from tqdm.autonotebook import tqdm, trange\n"
     ]
    }
   ],
   "source": [
    "from langchain_huggingface.embeddings import HuggingFaceEmbeddings\n",
    "from langchain_text_splitters import RecursiveCharacterTextSplitter\n",
    "from langchain_chroma.vectorstores import Chroma\n",
    "\n",
    "text_splitter = RecursiveCharacterTextSplitter(chunk_size=1000, chunk_overlap=200)\n",
    "split_docs = text_splitter.split_documents(docs)\n",
    "\n",
    "embeddings = HuggingFaceEmbeddings(\n",
    "    model_name=\"/shibing624/text2vec-base-chinese\",\n",
    "    model_kwargs={'device': 'cpu'},\n",
    "    encode_kwargs={'normalize_embeddings': False}\n",
    ")\n",
    "\n",
    "vectorstore = Chroma.from_documents(split_docs, embeddings, collection_name=\"serverless_guide\")"
   ]
  },
  {
   "cell_type": "markdown",
   "metadata": {
    "id": "-T6_mIR8RwEF"
   },
   "source": [
    "6. 基于OpenAI创建QA链"
   ]
  },
  {
   "cell_type": "code",
   "execution_count": 16,
   "metadata": {},
   "outputs": [],
   "source": [
    "from langchain_core.prompts import (\n",
    "    ChatPromptTemplate,\n",
    "    PromptTemplate,\n",
    "    SystemMessagePromptTemplate,\n",
    "    AIMessagePromptTemplate,\n",
    "    HumanMessagePromptTemplate,\n",
    ")\n",
    "from langchain_core.runnables import RunnablePassthrough\n",
    "from langchain_core.output_parsers import StrOutputParser\n",
    "from langchain_openai import ChatOpenAI\n",
    "\n",
    "template = \"\"\"You are an assistant for question-answering tasks. Use the following pieces of retrieved context to answer the question. If you don't know the answer, just say that you don't know. Use three sentences maximum and keep the answer concise.\n",
    "Context: {context} \n",
    "Question: {question} \n",
    "\"\"\"\n",
    "\n",
    "retriever = vectorstore.as_retriever()\n",
    "\n",
    "def format_docs(docs):\n",
    "    return \"\\n\\n\".join(doc.page_content for doc in docs)\n",
    "\n",
    "## 利用 ChatPromptTemplate.from_messages\n",
    "# human_message_prompt = HumanMessagePromptTemplate(\n",
    "#     prompt=PromptTemplate(\n",
    "#         template=template,\n",
    "#         input_variables=[\"question\", \"context\"],\n",
    "#     )\n",
    "# )\n",
    "\n",
    "# prompt = ChatPromptTemplate.from_messages([human_message_prompt])\n",
    "\n",
    "## 利用 ChatPromptTemplate.from_template\n",
    "prompt = ChatPromptTemplate.from_template(template)\n",
    "\n",
    "llm = ChatOpenAI(temperature=0, model_name=\"qwen2.5:14b\", openai_api_key='ollama', openai_api_base='http://localhost:11434/v1')\n",
    "\n",
    "rag_chain = (\n",
    "    {\"context\": retriever | format_docs, \"question\": RunnablePassthrough()}\n",
    "    | prompt\n",
    "    | llm\n",
    "    | StrOutputParser()\n",
    ")"
   ]
  },
  {
   "cell_type": "markdown",
   "metadata": {
    "id": "1XecjykTSnve"
   },
   "source": [
    "7. 基于相关文档，利用QA链完成回答"
   ]
  },
  {
   "cell_type": "code",
   "execution_count": 17,
   "metadata": {
    "colab": {
     "base_uri": "https://localhost:8080/",
     "height": 54
    },
    "id": "E4YOeM8aSuEY",
    "outputId": "14ccdea1-f586-45cf-bf4c-cce99322739c"
   },
   "outputs": [
    {
     "data": {
      "text/plain": [
       "\" \\n\\nThe AWS Serverless Application Model (SAM) CLI is used for creating, deploying, testing, and updating serverless applications from the command line. It allows developers to work more efficiently with serverless architectures by providing features to manage infrastructure and code locally before deploying changes to the cloud. However, it's important to note that serverless services are better suited to their native cloud environment despite local development capabilities.\""
      ]
     },
     "execution_count": 17,
     "metadata": {},
     "output_type": "execute_result"
    }
   ],
   "source": [
    "rag_chain.invoke(\"What is the use case of AWS Serverless?\")"
   ]
  },
  {
   "cell_type": "markdown",
   "metadata": {},
   "source": [
    "8.基于相似文档，利用QA链完成回答"
   ]
  },
  {
   "cell_type": "code",
   "execution_count": 20,
   "metadata": {},
   "outputs": [
    {
     "data": {
      "text/plain": [
       "' The AWS Serverless model is used to deploy and run applications without managing servers, allowing developers to focus on writing code and deploying it efficiently using tools like AWS SAM CLI for testing and deployment. This approach is better suited to its native cloud environment due to limitations in local development emulators.'"
      ]
     },
     "execution_count": 20,
     "metadata": {},
     "output_type": "execute_result"
    }
   ],
   "source": [
    "chain = (\n",
    "    RunnablePassthrough.assign(context=lambda input: format_docs(input[\"context\"]))\n",
    "    | prompt\n",
    "    | llm\n",
    "    | StrOutputParser()\n",
    ")\n",
    "\n",
    "question = \"what is the use case of AWS Serverless?\"\n",
    "\n",
    "docs = vectorstore.similarity_search(question)\n",
    "\n",
    "chain.invoke({\"context\": docs, \"question\": question})"
   ]
  },
  {
   "cell_type": "code",
   "execution_count": 25,
   "metadata": {},
   "outputs": [
    {
     "data": {
      "text/plain": [
       "' \\n\\nThe AWS Serverless Application Model (SAM) CLI is used for creating, deploying, testing, and updating serverless applications from the command line. It allows developers to work more efficiently with serverless architectures by providing features to manage infrastructure and code locally before deploying them to the cloud.'"
      ]
     },
     "execution_count": 25,
     "metadata": {},
     "output_type": "execute_result"
    }
   ],
   "source": [
    "chain = (\n",
    "    RunnablePassthrough.assign(context=lambda input: format_docs(input[\"context\"]))\n",
    "    | prompt\n",
    "    | llm\n",
    "    | StrOutputParser()\n",
    ")\n",
    "\n",
    "question = \"what is the use case of AWS Serverless?\"\n",
    "\n",
    "docs = vectorstore.similarity_search(question)\n",
    "\n",
    "chain.invoke({\"context\": docs, \"question\": question})"
   ]
  }
 ],
 "metadata": {
  "colab": {
   "authorship_tag": "ABX9TyNqlLD/LEX3MZ6Uw13WCE8x",
   "include_colab_link": true,
   "provenance": []
  },
  "kernelspec": {
   "display_name": "langchain",
   "language": "python",
   "name": "langchain"
  },
  "language_info": {
   "codemirror_mode": {
    "name": "ipython",
    "version": 3
   },
   "file_extension": ".py",
   "mimetype": "text/x-python",
   "name": "python",
   "nbconvert_exporter": "python",
   "pygments_lexer": "ipython3",
   "version": "3.9.20"
  }
 },
 "nbformat": 4,
 "nbformat_minor": 4
}
