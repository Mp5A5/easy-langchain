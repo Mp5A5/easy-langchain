{
 "cells": [
  {
   "cell_type": "markdown",
   "metadata": {
    "colab_type": "text",
    "id": "view-in-github"
   },
   "source": [
    "<a href=\"https://colab.research.google.com/github/sugarforever/wtf-langchain/blob/main/04_Prompts/04_Prompts.ipynb\" target=\"_parent\"><img src=\"https://colab.research.google.com/assets/colab-badge.svg\" alt=\"Open In Colab\"/></a>"
   ]
  },
  {
   "cell_type": "code",
   "execution_count": null,
   "metadata": {},
   "outputs": [],
   "source": [
    "pip install langchain==0.3.7\n",
    "pip install langchain-chroma==0.1.4\n",
    "pip install langchain-community==0.3.5\n",
    "pip install langchain-core==0.3.18\n",
    "pip install langchain-huggingface==0.1.2\n",
    "pip install langchain-ollama==0.2.0\n",
    "pip install langchain-openai==0.2.8\n",
    "pip install langchain-text-splitters==0.3.2"
   ]
  },
  {
   "cell_type": "markdown",
   "metadata": {
    "id": "IkIusM-GD9MR"
   },
   "source": [
    "# 04 提示词\n",
    "\n",
    "## 什么是提示词？\n",
    "\n",
    "提示词（`Prompt`）是指向模型提供的输入。这个输入通常由多个元素构成。`LangChain` 提供了一系列的类和函数，简化构建和处理提示词的过程。\n",
    "- 提示词模板（Prompt Template）：对提示词参数化，提高代码的重用性。\n",
    "- 示例选择器（Example Selector）：动态选择要包含在提示词中的示例\n",
    "\n",
    "## 提示词模板\n",
    "\n",
    "提示词模板提供了可重用提示词的机制。用户通过传递一组参数给模板，实例化图一个提示词。一个提示模板可以包含：\n",
    "1. 对语言模型的指令\n",
    "2. 一组少样本示例，以帮助语言模型生成更好的回复\n",
    "3. 向语言模型提出的问题"
   ]
  },
  {
   "cell_type": "code",
   "execution_count": 1,
   "metadata": {
    "colab": {
     "base_uri": "https://localhost:8080/",
     "height": 36
    },
    "id": "JLEcB491EGTI",
    "outputId": "e01c7610-0776-4801-be39-b8d6816ee207"
   },
   "outputs": [
    {
     "data": {
      "text/plain": [
       "'\\n你精通多种语言，是专业的翻译官。你负责英文到中文的翻译工作。\\n'"
      ]
     },
     "execution_count": 1,
     "metadata": {},
     "output_type": "execute_result"
    }
   ],
   "source": [
    "from langchain_core.prompts import PromptTemplate\n",
    "template = \"\"\"\n",
    "你精通多种语言，是专业的翻译官。你负责{src_lang}到{dst_lang}的翻译工作。\n",
    "\"\"\"\n",
    "\n",
    "prompt = PromptTemplate.from_template(template)\n",
    "prompt.format(src_lang=\"英文\", dst_lang=\"中文\")"
   ]
  },
  {
   "cell_type": "markdown",
   "metadata": {
    "id": "_DRl_mS9EUl8"
   },
   "source": [
    "### 创建模板\n",
    "\n",
    "`PromptTemplate` 类是 `LangChain` 提供的模版基础类，它接收两个参数：\n",
    "1. `input_variables` - 输入变量\n",
    "2. `template` - 模版"
   ]
  },
  {
   "cell_type": "code",
   "execution_count": 2,
   "metadata": {
    "colab": {
     "base_uri": "https://localhost:8080/",
     "height": 36
    },
    "id": "T349YtlREVlc",
    "outputId": "682a2e75-18f9-4aba-b2d6-18e2e5d7b07a"
   },
   "outputs": [
    {
     "data": {
      "text/plain": [
       "'A black bear .'"
      ]
     },
     "execution_count": 2,
     "metadata": {},
     "output_type": "execute_result"
    }
   ],
   "source": [
    "multiple_input_prompt = PromptTemplate(\n",
    "    input_variables=[\"color\", \"animal\"],\n",
    "    template=\"A {color} {animal} .\"\n",
    ")\n",
    "multiple_input_prompt.format(color=\"black\", animal=\"bear\")"
   ]
  },
  {
   "cell_type": "markdown",
   "metadata": {
    "id": "SLaylT92Eeu_"
   },
   "source": [
    "#### 聊天提示词模板\n",
    "\n",
    "聊天模型，比如 `OpenAI` 的GPT模型，接受一系列聊天消息作为输入，每条消息都与一个角色相关联。这个消息列表通常以一定格式串联，构成模型的输入，也就是提示词。"
   ]
  },
  {
   "cell_type": "code",
   "execution_count": 3,
   "metadata": {
    "colab": {
     "base_uri": "https://localhost:8080/"
    },
    "id": "LH_VDH6iEjY8",
    "outputId": "3b1cad37-3375-4b50-9ebe-505b7085d471"
   },
   "outputs": [
    {
     "data": {
      "text/plain": [
       "[SystemMessage(content='You are a professional translator that translates English to Chinese.', additional_kwargs={}, response_metadata={}),\n",
       " HumanMessage(content='Did you eat in this morning?', additional_kwargs={}, response_metadata={})]"
      ]
     },
     "execution_count": 3,
     "metadata": {},
     "output_type": "execute_result"
    }
   ],
   "source": [
    "from langchain_core.prompts import (\n",
    "    ChatPromptTemplate,\n",
    "    PromptTemplate,\n",
    "    SystemMessagePromptTemplate,\n",
    "    AIMessagePromptTemplate,\n",
    "    HumanMessagePromptTemplate,\n",
    ")\n",
    "from langchain_core.messages import (\n",
    "    AIMessage,\n",
    "    HumanMessage,\n",
    "    SystemMessage\n",
    ")\n",
    "\n",
    "system_template=\"You are a professional translator that translates {src_lang} to {dst_lang}.\"\n",
    "system_message_prompt = SystemMessagePromptTemplate.from_template(system_template)\n",
    "\n",
    "human_template=\"{user_input}\"\n",
    "human_message_prompt = HumanMessagePromptTemplate.from_template(human_template)\n",
    "\n",
    "chat_prompt = ChatPromptTemplate.from_messages([system_message_prompt, human_message_prompt])\n",
    "chat_prompt.format_prompt(\n",
    "    src_lang=\"English\",\n",
    "    dst_lang=\"Chinese\",\n",
    "    user_input=\"Did you eat in this morning?\"\n",
    ").to_messages()"
   ]
  },
  {
   "cell_type": "markdown",
   "metadata": {
    "id": "YL1RwGrXEyKg"
   },
   "source": [
    "#### 样本选择器"
   ]
  },
  {
   "cell_type": "code",
   "execution_count": 14,
   "metadata": {
    "colab": {
     "base_uri": "https://localhost:8080/"
    },
    "id": "Aei66914EywY",
    "outputId": "51606e73-35a0-4d95-9714-31cba534862a"
   },
   "outputs": [
    {
     "name": "stdout",
     "output_type": "stream",
     "text": [
      "给出每个输入词的反义词\n",
      "\n",
      "Input: 快乐\n",
      "Output: 悲伤\n",
      "\n",
      "Input: 阳光明媚\n",
      "Output:\n"
     ]
    }
   ],
   "source": [
    "from langchain_core.prompts import PromptTemplate\n",
    "from langchain_core.prompts import FewShotPromptTemplate\n",
    "from langchain_core.example_selectors.length_based import LengthBasedExampleSelector\n",
    "\n",
    "examples = [\n",
    "    {\"input\": \"快乐\", \"output\": \"悲伤\"},\n",
    "    {\"input\": \"高大\", \"output\": \"矮小\"},\n",
    "    {\"input\": \"元气满满\", \"output\": \"没精打采\"},\n",
    "    {\"input\": \"阳光明媚\", \"output\": \"幽暗深邃\"},\n",
    "    {\"input\": \"夸夸其谈\", \"output\": \"泰然自若\"},\n",
    "]\n",
    "example_prompt = PromptTemplate(\n",
    "    input_variables=[\"input\", \"output\"],\n",
    "    template=\"Input: {input}\\nOutput: {output}\",\n",
    ")\n",
    "example_selector = LengthBasedExampleSelector(\n",
    "    # 可选的样本数据\n",
    "    examples=examples,\n",
    "    # 提示词模版\n",
    "    example_prompt=example_prompt,\n",
    "    # 格式化的样本数据的最大长度，通过get_text_length函数来衡量\n",
    "    max_length=6,\n",
    "    # get_text_length: ...\n",
    ")\n",
    "dynamic_prompt = FewShotPromptTemplate(\n",
    "    example_selector=example_selector,\n",
    "    example_prompt=example_prompt,\n",
    "    prefix=\"给出每个输入词的反义词\",\n",
    "    suffix=\"Input: {adjective}\\nOutput:\",\n",
    "    input_variables=[\"adjective\"],\n",
    ")\n",
    "\n",
    "# 输入量极小，因此所有样本数据都会被选中\n",
    "print(dynamic_prompt.format(adjective=\"阳光明媚\"))"
   ]
  },
  {
   "cell_type": "code",
   "execution_count": 17,
   "metadata": {
    "colab": {
     "base_uri": "https://localhost:8080/"
    },
    "id": "vehXwrdxG08-",
    "outputId": "b8665780-fbf7-4329-dd3d-5e0602837bf0"
   },
   "outputs": [
    {
     "data": {
      "text/plain": [
       "1"
      ]
     },
     "execution_count": 17,
     "metadata": {},
     "output_type": "execute_result"
    }
   ],
   "source": [
    "example_selector.get_text_length(\"\")"
   ]
  }
 ],
 "metadata": {
  "colab": {
   "authorship_tag": "ABX9TyM7vOFz/ctj6hEBoPcJqCn6",
   "include_colab_link": true,
   "provenance": []
  },
  "kernelspec": {
   "display_name": "langchain",
   "language": "python",
   "name": "langchain"
  },
  "language_info": {
   "codemirror_mode": {
    "name": "ipython",
    "version": 3
   },
   "file_extension": ".py",
   "mimetype": "text/x-python",
   "name": "python",
   "nbconvert_exporter": "python",
   "pygments_lexer": "ipython3",
   "version": "3.9.20"
  }
 },
 "nbformat": 4,
 "nbformat_minor": 4
}
