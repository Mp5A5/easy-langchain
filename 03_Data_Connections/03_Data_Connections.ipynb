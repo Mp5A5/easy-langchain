{
 "cells": [
  {
   "cell_type": "markdown",
   "metadata": {
    "colab_type": "text",
    "id": "view-in-github"
   },
   "source": [
    "<a href=\"https://colab.research.google.com/github/sugarforever/wtf-langchain/blob/main/03_Data_Connections/03_Data_Connections.ipynb\" target=\"_parent\"><img src=\"https://colab.research.google.com/assets/colab-badge.svg\" alt=\"Open In Colab\"/></a>"
   ]
  },
  {
   "cell_type": "code",
   "execution_count": null,
   "metadata": {
    "id": "MjW9VjNto59d"
   },
   "outputs": [],
   "source": [
    "pip install langchain==0.3.7\n",
    "pip install langchain-chroma==0.1.4\n",
    "pip install langchain-community==0.3.5\n",
    "pip install langchain-core==0.3.18\n",
    "pip install langchain-huggingface==0.1.2\n",
    "pip install langchain-ollama==0.2.0\n",
    "pip install langchain-openai==0.2.8\n",
    "pip install langchain-text-splitters==0.3.2"
   ]
  },
  {
   "cell_type": "code",
   "execution_count": 1,
   "metadata": {
    "id": "LS_efmfC5Hp6"
   },
   "outputs": [
    {
     "name": "stdout",
     "output_type": "stream",
     "text": [
      "--2024-11-08 11:40:34--  https://raw.githubusercontent.com/WTFAcademy/WTF-Langchain/main/01_Hello_Langchain/README.md\n",
      "正在解析主机 raw.githubusercontent.com (raw.githubusercontent.com)... 185.199.111.133, 185.199.109.133, 185.199.108.133, ...\n",
      "正在连接 raw.githubusercontent.com (raw.githubusercontent.com)|185.199.111.133|:443... 已连接。\n",
      "已发出 HTTP 请求，正在等待回应... ^C\n"
     ]
    }
   ],
   "source": [
    "!wget -P ./data https://raw.githubusercontent.com/WTFAcademy/WTF-Langchain/main/01_Hello_Langchain/README.md"
   ]
  },
  {
   "cell_type": "markdown",
   "metadata": {
    "id": "C-W2t1v65-Gt"
   },
   "source": [
    "## 加载文档"
   ]
  },
  {
   "cell_type": "code",
   "execution_count": 1,
   "metadata": {
    "id": "e1_VoFqS5GJ4"
   },
   "outputs": [],
   "source": [
    "from langchain_community.document_loaders.text import TextLoader\n",
    "\n",
    "loader = TextLoader(\"./README.md\")\n",
    "docs = loader.load()"
   ]
  },
  {
   "cell_type": "code",
   "execution_count": 2,
   "metadata": {
    "id": "omltifXH6jc7"
   },
   "outputs": [
    {
     "data": {
      "text/plain": [
       "[Document(metadata={'source': './data/README.md'}, page_content='---\\ntitle: 01. Hello Langchain\\ntags:\\n  - zhipuai\\n  - llm\\n  - langchain\\n---\\n\\n# Langchain极简入门: 01. Hello Langchain\\n\\n最近在学习Langchain框架，顺手写一个“WTF Langchain极简入门”，供小白们使用（编程大佬可以另找教程）。本教程默认以下前提：\\n- 使用Python版本的[Langchain](https://github.com/hwchase17/langchain)\\n- LLM使用ChatZhipuAI的模型\\n- Langchain目前还处于快速发展阶段，版本迭代频繁，为避免示例代码失效，本教程统一使用版本 **0.3.7**\\n\\n根据Langchain的[代码约定](https://github.com/hwchase17/langchain/blob/v0.0.235/pyproject.toml#L14C1-L14C24)，Python版本 \">=3.8.1,<4.0\"。\\n\\n推特：[@verysmallwoods](https://twitter.com/verysmallwoods)\\n\\n所有代码和教程开源在github: [github.com/sugarforever/wtf-langchain](https://github.com/sugarforever/wtf-langchain)\\n\\n-----\\n\\n## Langchain 简介\\n\\n大型语言模型（LLM）正在成为一种具有变革性的技术，使开发人员能够构建以前无法实现的应用程序。然而，仅仅依靠LLM还不足以创建一个真正强大的应用程序。它还需要其他计算资源或知识来源。\\n\\n`Langchain` 旨在帮助开发这些类型应用程序，比如：\\n- 基于文档数据的问答\\n- 聊天机器人\\n- 代理\\n\\n## ZhipuAI 简介\\n\\n`ZhipuAI` 是LLM生态的模型层最大的玩家之一。大家目前熟知的 *GLM-3*，*GLM-4* 等模型都是ZhipuAI的产品。它的API允许开发人员通过简单的API调用来访问这些模型。\\n\\n## Langchain与ZhipuAI\\n\\n`Langchain` 作为一个开源框架，提供与ZhipuAI等语言模型的接口，简化了在应用程序中集成和利用语言模型能力的过程。\\n\\n## 开发前的准备\\n\\n在开始第一个Langchain应用程序之前，我们需要做一些必要的准备。\\n\\n### Google Colab\\n\\n本教程中，我们将使用 `Google Colab` 在云端运行 `Python` 代码。Google Colab（全称Google Colaboratory）是一个由Google提供的云端开发环境，用于数据分析、机器学习和深度学习任务。它基于Jupyter Notebook，提供了一个免费的、云端的Python编程环境，用户可以直接在浏览器中编写和执行Python代码。\\n\\n网址：[https://colab.research.google.com/](https://colab.research.google.com/)\\n\\n![Google Colab](./google_colab.png)\\n\\n无法使用Google Colab的同学，可以使用Visual Studio Code配合Jupyter插件在本地运行代码。\\n\\n### ZhipuAI API Key\\n\\n在Langchain应用中使用ZhipuAI的模型，我们需要一个API Key。点击[https://bigmodel.cn/usercenter/apikeys](https://bigmodel.cn/usercenter/apikeys)创建你的API Key。\\n\\n## 第一个 Langchain 应用\\n\\n这个简单的程序只有 1 行安装指令和 7 行代码：\\n\\n### 安装指令\\n\\n```shell\\npip install langchain==0.3.7 zhipuai==2.1.5.20230904 langchain-community==0.3.5 langchain-core==0.3.15 -q -U\\n```\\n\\n### 代码\\n\\n[Hello_Langchain.ipynb](./Hello_Langchain.ipynb)\\n\\n```python\\nfrom langchain_community.chat_models import ChatZhipuAI\\nfrom langchain_core.messages import AIMessage, HumanMessage, SystemMessage\\n\\nimport os\\nos.environ[\\'ZHIPUAI_API_KEY\\'] = \\'您的有效ZhipuAI API Key\\'\\n\\nchat = ChatZhipuAI(temperature=0, model=\"glm-4\")\\nresponse = chat([ HumanMessage(content=\"Hello Langchain!\") ])\\nprint(response)\\n```\\n\\n你应该能看到类似这样的输出：\\n\\n```shell\\ncontent=\\'Hello! How can I assist you today? If you have any questions or need information on a topic, feel free to ask.\\' additional_kwargs={} response_metadata={\\'token_usage\\': {\\'completion_tokens\\': 28, \\'prompt_tokens\\': 9, \\'total_tokens\\': 37}, \\'model_name\\': \\'glm-4\\', \\'finish_reason\\': \\'stop\\'} id=\\'run-e0f8ccbf-9518-4ac4-ba44-946ca817fc14-0\\'\\n```\\n\\n我们拆解程序，学习该代码的结构：\\n\\n1. 以下系统命令安装必要的Python包，langchain和ZhipuAI。\\n\\n  ```shell\\n  pip install langchain==0.3.7 zhipuai==2.1.5.20230904 langchain-community==0.3.5 langchain-core==0.3.15 -q -U\\n  ```\\n\\n2. 以下代码将ZhipuAI的API Key设置在环境变量中。默认情况下，Langchain会从环境变量 `ZhipuAI_API_KEY` 中读取API Key。注意，在代码中直接嵌入API Key明文并不安全，切勿将API Key直接提交到代码仓库。我们建议利用.env文件和python-dotenv包来管理API Key。\\n\\n  ```python\\n  import os\\n  os.environ[\\'ZHIPUAI_API_KEY\\'] = \\'您的有效ZhipuAI API Key\\'\\n  ```\\n\\n3. 以下代码导入了 `ChatZhipuAI` 类，该类封装了ZhipuAI的聊天模型。`ChatZhipuAI` 类的初始化参数 `temperature` 用于控制模型的生成文本的多样性。`temperature` 越大，生成的文本越多样，但也越不可控。`temperature` 越小，生成的文本越单一，但也越可控。`temperature` 的取值范围为 0 到 1，默认值为 0.5。初始化参数 `model_name` 用于指定使用的模型，默认值为 `gpt-3.5-turbo`。\\n\\n  ```python\\n  chat = ChatZhipuAI(temperature=0, model=\"glm-4\")\\n  ```\\n\\n4. 以下代码完成与ZhipuAI GPT模型的第一次对话，并打印出响应。\\n\\n  ```python\\n  response = chat([ HumanMessage(content=\"Hello Langchain!\") ])\\n  print(response)\\n  ```\\n\\n## 运行代码\\n\\n在 Google Colab 的页面，在每一个代码块，按 Ctrl/Cmd + Enter 即可运行代码，非常方便。\\n\\n![](./hello_langchain.png)\\n\\n## 总结\\n本节课程中，我们简要介绍了 `Langchain`，`ZhipuAI` 以及它们的关系，并完成了第一个 `Langchain` 应用 —— `Hello Langchain`。\\n\\n### 相关文档资料链接：\\n1. [Python Langchain官方文档](https://python.langchain.com/docs/get_started/introduction.html) ')]"
      ]
     },
     "execution_count": 2,
     "metadata": {},
     "output_type": "execute_result"
    }
   ],
   "source": [
    "docs"
   ]
  },
  {
   "cell_type": "markdown",
   "metadata": {
    "id": "kRPF6Mfn6Ake"
   },
   "source": [
    "## 拆分文档"
   ]
  },
  {
   "cell_type": "markdown",
   "metadata": {
    "id": "FakX37SB6DT4"
   },
   "source": [
    "### 按字符拆分"
   ]
  },
  {
   "cell_type": "code",
   "execution_count": 4,
   "metadata": {
    "id": "0gm-A-_r5Wfb"
   },
   "outputs": [
    {
     "name": "stdout",
     "output_type": "stream",
     "text": [
      "3738\n",
      "999\n",
      "977\n",
      "963\n",
      "999\n",
      "396\n"
     ]
    }
   ],
   "source": [
    "from langchain_text_splitters.character import CharacterTextSplitter\n",
    "text_splitter = CharacterTextSplitter(\n",
    "    separator = \"\\n\\n\",\n",
    "    chunk_size = 1000,\n",
    "    chunk_overlap  = 200,\n",
    "    length_function = len,\n",
    ")\n",
    "\n",
    "split_docs = text_splitter.split_documents(docs)\n",
    "print(len(docs[0].page_content))\n",
    "for split_doc in split_docs:\n",
    "  print(len(split_doc.page_content))"
   ]
  },
  {
   "cell_type": "markdown",
   "metadata": {
    "id": "8avQDR6u6HCP"
   },
   "source": [
    "### 拆分代码"
   ]
  },
  {
   "cell_type": "code",
   "execution_count": 5,
   "metadata": {
    "id": "OlNC7pR15Z0r"
   },
   "outputs": [
    {
     "data": {
      "text/plain": [
       "[Document(metadata={}, page_content='def hello_langchain():'),\n",
       " Document(metadata={}, page_content='print(\"Hello, Langchain!\")'),\n",
       " Document(metadata={}, page_content='# Call the function\\nhello_langchain()')]"
      ]
     },
     "execution_count": 5,
     "metadata": {},
     "output_type": "execute_result"
    }
   ],
   "source": [
    "from langchain_text_splitters.character import RecursiveCharacterTextSplitter, Language\n",
    "\n",
    "PYTHON_CODE = \"\"\"\n",
    "def hello_langchain():\n",
    "    print(\"Hello, Langchain!\")\n",
    "\n",
    "# Call the function\n",
    "hello_langchain()\n",
    "\"\"\"\n",
    "python_splitter = RecursiveCharacterTextSplitter.from_language(\n",
    "    language=Language.PYTHON, chunk_size=50, chunk_overlap=0\n",
    ")\n",
    "python_docs = python_splitter.create_documents([PYTHON_CODE])\n",
    "python_docs"
   ]
  },
  {
   "cell_type": "markdown",
   "metadata": {
    "id": "O_wWWlWS6JkO"
   },
   "source": [
    "### Markdown文档拆分"
   ]
  },
  {
   "cell_type": "code",
   "execution_count": 7,
   "metadata": {
    "id": "Gg6twioR5cX8"
   },
   "outputs": [
    {
     "data": {
      "text/plain": [
       "[Document(metadata={'Header 1': 'Chapter 1', 'Header 2': 'Section 1'}, page_content='Hi this is the 1st section  \\nWelcome'),\n",
       " Document(metadata={'Header 1': 'Chapter 1', 'Header 2': 'Section 1', 'Header 3': 'Module 1'}, page_content='Hi this is the first module'),\n",
       " Document(metadata={'Header 1': 'Chapter 1', 'Header 2': 'Section 2'}, page_content='Hi this is the 2nd section')]"
      ]
     },
     "execution_count": 7,
     "metadata": {},
     "output_type": "execute_result"
    }
   ],
   "source": [
    "from langchain_text_splitters.markdown import MarkdownHeaderTextSplitter\n",
    "\n",
    "markdown_document = \"# Chapter 1\\n\\n    ## Section 1\\n\\nHi this is the 1st section\\n\\nWelcome\\n\\n ### Module 1 \\n\\n Hi this is the first module \\n\\n ## Section 2\\n\\n Hi this is the 2nd section\"\n",
    "\n",
    "headers_to_split_on = [\n",
    "    (\"#\", \"Header 1\"),\n",
    "    (\"##\", \"Header 2\"),\n",
    "    (\"###\", \"Header 3\"),\n",
    "]\n",
    "\n",
    "splitter = MarkdownHeaderTextSplitter(headers_to_split_on=headers_to_split_on)\n",
    "splits = splitter.split_text(markdown_document)\n",
    "\n",
    "splits"
   ]
  },
  {
   "cell_type": "markdown",
   "metadata": {
    "id": "Spo_Nn036Oko"
   },
   "source": [
    "### 按字符递归拆分"
   ]
  },
  {
   "cell_type": "code",
   "execution_count": 8,
   "metadata": {
    "id": "RLxIWV3G5nSh"
   },
   "outputs": [
    {
     "name": "stdout",
     "output_type": "stream",
     "text": [
      "3738\n",
      "74\n",
      "36\n",
      "71\n",
      "86\n",
      "59\n",
      "99\n",
      "30\n",
      "15\n",
      "56\n",
      "17\n",
      "86\n",
      "22\n",
      "91\n",
      "70\n",
      "97\n",
      "97\n",
      "64\n",
      "65\n",
      "77\n",
      "57\n",
      "75\n",
      "98\n",
      "19\n",
      "35\n",
      "98\n",
      "56\n",
      "8\n",
      "79\n",
      "28\n",
      "3\n",
      "56\n",
      "65\n",
      "74\n",
      "63\n",
      "48\n",
      "81\n",
      "14\n",
      "8\n",
      "94\n",
      "97\n",
      "89\n",
      "81\n",
      "3\n",
      "58\n",
      "8\n",
      "79\n",
      "28\n",
      "3\n",
      "97\n",
      "87\n",
      "83\n",
      "80\n",
      "76\n",
      "87\n",
      "31\n",
      "66\n",
      "37\n",
      "91\n",
      "21\n",
      "95\n",
      "94\n",
      "13\n",
      "90\n"
     ]
    }
   ],
   "source": [
    "from langchain_text_splitters.character import RecursiveCharacterTextSplitter\n",
    "text_splitter = RecursiveCharacterTextSplitter(\n",
    "    chunk_size = 100,\n",
    "    chunk_overlap  = 20,\n",
    "    length_function = len,\n",
    ")\n",
    "texts = text_splitter.split_documents(docs)\n",
    "print(len(docs[0].page_content))\n",
    "for split_doc in texts:\n",
    "  print(len(split_doc.page_content))"
   ]
  },
  {
   "cell_type": "markdown",
   "metadata": {
    "id": "iH_AHoif6SVQ"
   },
   "source": [
    "### 按token拆分"
   ]
  },
  {
   "cell_type": "code",
   "execution_count": null,
   "metadata": {
    "id": "L0zcXo2y8urg"
   },
   "outputs": [],
   "source": [
    "!pip install -q tiktoken"
   ]
  },
  {
   "cell_type": "code",
   "execution_count": 9,
   "metadata": {
    "id": "WGg-ZOaq5pzl"
   },
   "outputs": [
    {
     "name": "stderr",
     "output_type": "stream",
     "text": [
      "WARNING:langchain_text_splitters.base:Created a chunk of size 261, which is longer than the specified 100\n",
      "WARNING:langchain_text_splitters.base:Created a chunk of size 188, which is longer than the specified 100\n",
      "WARNING:langchain_text_splitters.base:Created a chunk of size 138, which is longer than the specified 100\n",
      "WARNING:langchain_text_splitters.base:Created a chunk of size 113, which is longer than the specified 100\n",
      "WARNING:langchain_text_splitters.base:Created a chunk of size 231, which is longer than the specified 100\n",
      "WARNING:langchain_text_splitters.base:Created a chunk of size 132, which is longer than the specified 100\n",
      "WARNING:langchain_text_splitters.base:Created a chunk of size 197, which is longer than the specified 100\n",
      "WARNING:langchain_text_splitters.base:Created a chunk of size 300, which is longer than the specified 100\n",
      "WARNING:langchain_text_splitters.base:Created a chunk of size 102, which is longer than the specified 100\n"
     ]
    },
    {
     "data": {
      "text/plain": [
       "[Document(metadata={'source': './data/README.md'}, page_content='---\\ntitle: 01. Hello Langchain\\ntags:\\n  - zhipuai\\n  - llm\\n  - langchain\\n---\\n\\n# Langchain极简入门: 01. Hello Langchain'),\n",
       " Document(metadata={'source': './data/README.md'}, page_content='最近在学习Langchain框架，顺手写一个“WTF Langchain极简入门”，供小白们使用（编程大佬可以另找教程）。本教程默认以下前提：\\n- 使用Python版本的[Langchain](https://github.com/hwchase17/langchain)\\n- LLM使用ChatZhipuAI的模型\\n- Langchain目前还处于快速发展阶段，版本迭代频繁，为避免示例代码失效，本教程统一使用版本 **0.3.7**'),\n",
       " Document(metadata={'source': './data/README.md'}, page_content='根据Langchain的[代码约定](https://github.com/hwchase17/langchain/blob/v0.0.235/pyproject.toml#L14C1-L14C24)，Python版本 \">=3.8.1,<4.0\"。'),\n",
       " Document(metadata={'source': './data/README.md'}, page_content='推特：[@verysmallwoods](https://twitter.com/verysmallwoods)\\n\\n所有代码和教程开源在github: [github.com/sugarforever/wtf-langchain](https://github.com/sugarforever/wtf-langchain)\\n\\n-----\\n\\n## Langchain 简介'),\n",
       " Document(metadata={'source': './data/README.md'}, page_content='大型语言模型（LLM）正在成为一种具有变革性的技术，使开发人员能够构建以前无法实现的应用程序。然而，仅仅依靠LLM还不足以创建一个真正强大的应用程序。它还需要其他计算资源或知识来源。'),\n",
       " Document(metadata={'source': './data/README.md'}, page_content='`Langchain` 旨在帮助开发这些类型应用程序，比如：\\n- 基于文档数据的问答\\n- 聊天机器人\\n- 代理\\n\\n## ZhipuAI 简介'),\n",
       " Document(metadata={'source': './data/README.md'}, page_content='`ZhipuAI` 是LLM生态的模型层最大的玩家之一。大家目前熟知的 *GLM-3*，*GLM-4* 等模型都是ZhipuAI的产品。它的API允许开发人员通过简单的API调用来访问这些模型。'),\n",
       " Document(metadata={'source': './data/README.md'}, page_content='## Langchain与ZhipuAI'),\n",
       " Document(metadata={'source': './data/README.md'}, page_content='`Langchain` 作为一个开源框架，提供与ZhipuAI等语言模型的接口，简化了在应用程序中集成和利用语言模型能力的过程。'),\n",
       " Document(metadata={'source': './data/README.md'}, page_content='## 开发前的准备\\n\\n在开始第一个Langchain应用程序之前，我们需要做一些必要的准备。\\n\\n### Google Colab'),\n",
       " Document(metadata={'source': './data/README.md'}, page_content='本教程中，我们将使用 `Google Colab` 在云端运行 `Python` 代码。Google Colab（全称Google Colaboratory）是一个由Google提供的云端开发环境，用于数据分析、机器学习和深度学习任务。它基于Jupyter Notebook，提供了一个免费的、云端的Python编程环境，用户可以直接在浏览器中编写和执行Python代码。'),\n",
       " Document(metadata={'source': './data/README.md'}, page_content='网址：[https://colab.research.google.com/](https://colab.research.google.com/)\\n\\n![Google Colab](./google_colab.png)'),\n",
       " Document(metadata={'source': './data/README.md'}, page_content='无法使用Google Colab的同学，可以使用Visual Studio Code配合Jupyter插件在本地运行代码。\\n\\n### ZhipuAI API Key'),\n",
       " Document(metadata={'source': './data/README.md'}, page_content='在Langchain应用中使用ZhipuAI的模型，我们需要一个API Key。点击[https://bigmodel.cn/usercenter/apikeys](https://bigmodel.cn/usercenter/apikeys)创建你的API Key。'),\n",
       " Document(metadata={'source': './data/README.md'}, page_content='## 第一个 Langchain 应用\\n\\n这个简单的程序只有 1 行安装指令和 7 行代码：\\n\\n### 安装指令'),\n",
       " Document(metadata={'source': './data/README.md'}, page_content='```shell\\npip install langchain==0.3.7 zhipuai==2.1.5.20230904 langchain-community==0.3.5 langchain-core==0.3.15 -q -U\\n```\\n\\n### 代码\\n\\n[Hello_Langchain.ipynb](./Hello_Langchain.ipynb)'),\n",
       " Document(metadata={'source': './data/README.md'}, page_content=\"```python\\nfrom langchain_community.chat_models import ChatZhipuAI\\nfrom langchain_core.messages import AIMessage, HumanMessage, SystemMessage\\n\\nimport os\\nos.environ['ZHIPUAI_API_KEY'] = '您的有效ZhipuAI API Key'\"),\n",
       " Document(metadata={'source': './data/README.md'}, page_content='chat = ChatZhipuAI(temperature=0, model=\"glm-4\")\\nresponse = chat([ HumanMessage(content=\"Hello Langchain!\") ])\\nprint(response)\\n```\\n\\n你应该能看到类似这样的输出：'),\n",
       " Document(metadata={'source': './data/README.md'}, page_content=\"```shell\\ncontent='Hello! How can I assist you today? If you have any questions or need information on a topic, feel free to ask.' additional_kwargs={} response_metadata={'token_usage': {'completion_tokens': 28, 'prompt_tokens': 9, 'total_tokens': 37}, 'model_name': 'glm-4', 'finish_reason': 'stop'} id='run-e0f8ccbf-9518-4ac4-ba44-946ca817fc14-0'\\n```\"),\n",
       " Document(metadata={'source': './data/README.md'}, page_content='我们拆解程序，学习该代码的结构：\\n\\n1. 以下系统命令安装必要的Python包，langchain和ZhipuAI。'),\n",
       " Document(metadata={'source': './data/README.md'}, page_content='```shell\\n  pip install langchain==0.3.7 zhipuai==2.1.5.20230904 langchain-community==0.3.5 langchain-core==0.3.15 -q -U\\n  ```'),\n",
       " Document(metadata={'source': './data/README.md'}, page_content='2. 以下代码将ZhipuAI的API Key设置在环境变量中。默认情况下，Langchain会从环境变量 `ZhipuAI_API_KEY` 中读取API Key。注意，在代码中直接嵌入API Key明文并不安全，切勿将API Key直接提交到代码仓库。我们建议利用.env文件和python-dotenv包来管理API Key。'),\n",
       " Document(metadata={'source': './data/README.md'}, page_content=\"```python\\n  import os\\n  os.environ['ZHIPUAI_API_KEY'] = '您的有效ZhipuAI API Key'\\n  ```\"),\n",
       " Document(metadata={'source': './data/README.md'}, page_content='3. 以下代码导入了 `ChatZhipuAI` 类，该类封装了ZhipuAI的聊天模型。`ChatZhipuAI` 类的初始化参数 `temperature` 用于控制模型的生成文本的多样性。`temperature` 越大，生成的文本越多样，但也越不可控。`temperature` 越小，生成的文本越单一，但也越可控。`temperature` 的取值范围为 0 到 1，默认值为 0.5。初始化参数 `model_name` 用于指定使用的模型，默认值为 `gpt-3.5-turbo`。'),\n",
       " Document(metadata={'source': './data/README.md'}, page_content='```python\\n  chat = ChatZhipuAI(temperature=0, model=\"glm-4\")\\n  ```\\n\\n4. 以下代码完成与ZhipuAI GPT模型的第一次对话，并打印出响应。'),\n",
       " Document(metadata={'source': './data/README.md'}, page_content='```python\\n  response = chat([ HumanMessage(content=\"Hello Langchain!\") ])\\n  print(response)\\n  ```\\n\\n## 运行代码'),\n",
       " Document(metadata={'source': './data/README.md'}, page_content='在 Google Colab 的页面，在每一个代码块，按 Ctrl/Cmd + Enter 即可运行代码，非常方便。\\n\\n![](./hello_langchain.png)'),\n",
       " Document(metadata={'source': './data/README.md'}, page_content='## 总结\\n本节课程中，我们简要介绍了 `Langchain`，`ZhipuAI` 以及它们的关系，并完成了第一个 `Langchain` 应用 —— `Hello Langchain`。'),\n",
       " Document(metadata={'source': './data/README.md'}, page_content='### 相关文档资料链接：\\n1. [Python Langchain官方文档](https://python.langchain.com/docs/get_started/introduction.html)')]"
      ]
     },
     "execution_count": 9,
     "metadata": {},
     "output_type": "execute_result"
    }
   ],
   "source": [
    "from langchain_text_splitters.character import CharacterTextSplitter\n",
    "text_splitter = CharacterTextSplitter.from_tiktoken_encoder(\n",
    "    chunk_size=100, chunk_overlap=0\n",
    ")\n",
    "split_docs = text_splitter.split_documents(docs)\n",
    "\n",
    "split_docs"
   ]
  },
  {
   "cell_type": "markdown",
   "metadata": {
    "id": "d8dfw22O6Vb2"
   },
   "source": [
    "## 向量化文档分块"
   ]
  },
  {
   "cell_type": "code",
   "execution_count": 12,
   "metadata": {
    "id": "AghMYu8r5zBW"
   },
   "outputs": [
    {
     "data": {
      "text/plain": [
       "768"
      ]
     },
     "execution_count": 12,
     "metadata": {},
     "output_type": "execute_result"
    }
   ],
   "source": [
    "from langchain_huggingface.embeddings import HuggingFaceEmbeddings\n",
    "model_name = \"shibing624/text2vec-base-chinese\"\n",
    "model_kwargs = {'device': 'cpu'}\n",
    "encode_kwargs = {'normalize_embeddings': False}\n",
    "embeddings_model = HuggingFaceEmbeddings(\n",
    "    model_name=model_name,\n",
    "    model_kwargs=model_kwargs,\n",
    "    encode_kwargs=encode_kwargs\n",
    ")\n",
    "\n",
    "embeddings = embeddings_model.embed_documents(\n",
    "    [\n",
    "        \"你好!\",\n",
    "        \"Langchain!\",\n",
    "        \"你真棒！\"\n",
    "    ]\n",
    ")\n",
    "len(embeddings[0])"
   ]
  },
  {
   "cell_type": "markdown",
   "metadata": {
    "id": "QYq8gm4g6ZBl"
   },
   "source": [
    "## 向量数据存储"
   ]
  },
  {
   "cell_type": "markdown",
   "metadata": {
    "id": "Jff1dIkk6cwh"
   },
   "source": [
    "### 存储"
   ]
  },
  {
   "cell_type": "code",
   "execution_count": null,
   "metadata": {
    "id": "3KT-ziYSMMn9"
   },
   "outputs": [],
   "source": [
    "!pip install -q chromadb"
   ]
  },
  {
   "cell_type": "code",
   "execution_count": 13,
   "metadata": {
    "id": "vtDRMAx752w_"
   },
   "outputs": [],
   "source": [
    "from langchain_community.document_loaders.text import TextLoader\n",
    "from langchain_huggingface.embeddings import HuggingFaceEmbeddings\n",
    "from langchain_text_splitters.character import CharacterTextSplitter\n",
    "from langchain_community.vectorstores import Chroma\n",
    "\n",
    "# 加载文件\n",
    "loader = TextLoader(\"./data/README.md\")\n",
    "docs = loader.load()\n",
    "\n",
    "# 文件分割\n",
    "text_splitter = CharacterTextSplitter(chunk_size=1000, chunk_overlap=0)\n",
    "documents = text_splitter.split_documents(docs)\n",
    "\n",
    "# 分割文档向量化\n",
    "model_name = \"/Users/wangwenbin/Development/Learning/LLM/wtf-langchain/embedding_model/shibing624/text2vec-base-chinese\"\n",
    "model_kwargs = {'device': 'cpu'}\n",
    "encode_kwargs = {'normalize_embeddings': False}\n",
    "embeddings_model = HuggingFaceEmbeddings(\n",
    "    model_name=model_name,\n",
    "    model_kwargs=model_kwargs,\n",
    "    encode_kwargs=encode_kwargs\n",
    ")\n",
    "\n",
    "# 加入向量库\n",
    "db = Chroma.from_documents(documents, embeddings_model)"
   ]
  },
  {
   "cell_type": "markdown",
   "metadata": {
    "id": "3SmtLL016f5l"
   },
   "source": [
    "### 检索"
   ]
  },
  {
   "cell_type": "code",
   "execution_count": 14,
   "metadata": {
    "id": "XqqP4P4554j5"
   },
   "outputs": [
    {
     "data": {
      "text/plain": [
       "[Document(metadata={'source': './data/README.md'}, page_content='import os\\nos.environ[\\'ZHIPUAI_API_KEY\\'] = \\'您的有效ZhipuAI API Key\\'\\n\\nchat = ChatZhipuAI(temperature=0, model=\"glm-4\")\\nresponse = chat([ HumanMessage(content=\"Hello Langchain!\") ])\\nprint(response)\\n```\\n\\n你应该能看到类似这样的输出：\\n\\n```shell\\ncontent=\\'Hello! How can I assist you today? If you have any questions or need information on a topic, feel free to ask.\\' additional_kwargs={} response_metadata={\\'token_usage\\': {\\'completion_tokens\\': 28, \\'prompt_tokens\\': 9, \\'total_tokens\\': 37}, \\'model_name\\': \\'glm-4\\', \\'finish_reason\\': \\'stop\\'} id=\\'run-e0f8ccbf-9518-4ac4-ba44-946ca817fc14-0\\'\\n```\\n\\n我们拆解程序，学习该代码的结构：\\n\\n1. 以下系统命令安装必要的Python包，langchain和ZhipuAI。\\n\\n  ```shell\\n  pip install langchain==0.3.7 zhipuai==2.1.5.20230904 langchain-community==0.3.5 langchain-core==0.3.15 -q -U\\n  ```\\n\\n2. 以下代码将ZhipuAI的API Key设置在环境变量中。默认情况下，Langchain会从环境变量 `ZhipuAI_API_KEY` 中读取API Key。注意，在代码中直接嵌入API Key明文并不安全，切勿将API Key直接提交到代码仓库。我们建议利用.env文件和python-dotenv包来管理API Key。'),\n",
       " Document(metadata={'source': './data/README.md'}, page_content='---\\ntitle: 01. Hello Langchain\\ntags:\\n  - zhipuai\\n  - llm\\n  - langchain\\n---\\n\\n# Langchain极简入门: 01. Hello Langchain\\n\\n最近在学习Langchain框架，顺手写一个“WTF Langchain极简入门”，供小白们使用（编程大佬可以另找教程）。本教程默认以下前提：\\n- 使用Python版本的[Langchain](https://github.com/hwchase17/langchain)\\n- LLM使用ChatZhipuAI的模型\\n- Langchain目前还处于快速发展阶段，版本迭代频繁，为避免示例代码失效，本教程统一使用版本 **0.3.7**\\n\\n根据Langchain的[代码约定](https://github.com/hwchase17/langchain/blob/v0.0.235/pyproject.toml#L14C1-L14C24)，Python版本 \">=3.8.1,<4.0\"。\\n\\n推特：[@verysmallwoods](https://twitter.com/verysmallwoods)\\n\\n所有代码和教程开源在github: [github.com/sugarforever/wtf-langchain](https://github.com/sugarforever/wtf-langchain)\\n\\n-----\\n\\n## Langchain 简介\\n\\n大型语言模型（LLM）正在成为一种具有变革性的技术，使开发人员能够构建以前无法实现的应用程序。然而，仅仅依靠LLM还不足以创建一个真正强大的应用程序。它还需要其他计算资源或知识来源。\\n\\n`Langchain` 旨在帮助开发这些类型应用程序，比如：\\n- 基于文档数据的问答\\n- 聊天机器人\\n- 代理\\n\\n## ZhipuAI 简介\\n\\n`ZhipuAI` 是LLM生态的模型层最大的玩家之一。大家目前熟知的 *GLM-3*，*GLM-4* 等模型都是ZhipuAI的产品。它的API允许开发人员通过简单的API调用来访问这些模型。\\n\\n## Langchain与ZhipuAI\\n\\n`Langchain` 作为一个开源框架，提供与ZhipuAI等语言模型的接口，简化了在应用程序中集成和利用语言模型能力的过程。'),\n",
       " Document(metadata={'source': './data/README.md'}, page_content='```python\\n  import os\\n  os.environ[\\'ZHIPUAI_API_KEY\\'] = \\'您的有效ZhipuAI API Key\\'\\n  ```\\n\\n3. 以下代码导入了 `ChatZhipuAI` 类，该类封装了ZhipuAI的聊天模型。`ChatZhipuAI` 类的初始化参数 `temperature` 用于控制模型的生成文本的多样性。`temperature` 越大，生成的文本越多样，但也越不可控。`temperature` 越小，生成的文本越单一，但也越可控。`temperature` 的取值范围为 0 到 1，默认值为 0.5。初始化参数 `model_name` 用于指定使用的模型，默认值为 `gpt-3.5-turbo`。\\n\\n  ```python\\n  chat = ChatZhipuAI(temperature=0, model=\"glm-4\")\\n  ```\\n\\n4. 以下代码完成与ZhipuAI GPT模型的第一次对话，并打印出响应。\\n\\n  ```python\\n  response = chat([ HumanMessage(content=\"Hello Langchain!\") ])\\n  print(response)\\n  ```\\n\\n## 运行代码\\n\\n在 Google Colab 的页面，在每一个代码块，按 Ctrl/Cmd + Enter 即可运行代码，非常方便。\\n\\n![](./hello_langchain.png)\\n\\n## 总结\\n本节课程中，我们简要介绍了 `Langchain`，`ZhipuAI` 以及它们的关系，并完成了第一个 `Langchain` 应用 —— `Hello Langchain`。\\n\\n### 相关文档资料链接：\\n1. [Python Langchain官方文档](https://python.langchain.com/docs/get_started/introduction.html)'),\n",
       " Document(metadata={'source': './data/README.md'}, page_content='## 开发前的准备\\n\\n在开始第一个Langchain应用程序之前，我们需要做一些必要的准备。\\n\\n### Google Colab\\n\\n本教程中，我们将使用 `Google Colab` 在云端运行 `Python` 代码。Google Colab（全称Google Colaboratory）是一个由Google提供的云端开发环境，用于数据分析、机器学习和深度学习任务。它基于Jupyter Notebook，提供了一个免费的、云端的Python编程环境，用户可以直接在浏览器中编写和执行Python代码。\\n\\n网址：[https://colab.research.google.com/](https://colab.research.google.com/)\\n\\n![Google Colab](./google_colab.png)\\n\\n无法使用Google Colab的同学，可以使用Visual Studio Code配合Jupyter插件在本地运行代码。\\n\\n### ZhipuAI API Key\\n\\n在Langchain应用中使用ZhipuAI的模型，我们需要一个API Key。点击[https://bigmodel.cn/usercenter/apikeys](https://bigmodel.cn/usercenter/apikeys)创建你的API Key。\\n\\n## 第一个 Langchain 应用\\n\\n这个简单的程序只有 1 行安装指令和 7 行代码：\\n\\n### 安装指令\\n\\n```shell\\npip install langchain==0.3.7 zhipuai==2.1.5.20230904 langchain-community==0.3.5 langchain-core==0.3.15 -q -U\\n```\\n\\n### 代码\\n\\n[Hello_Langchain.ipynb](./Hello_Langchain.ipynb)\\n\\n```python\\nfrom langchain_community.chat_models import ChatZhipuAI\\nfrom langchain_core.messages import AIMessage, HumanMessage, SystemMessage')]"
      ]
     },
     "execution_count": 14,
     "metadata": {},
     "output_type": "execute_result"
    }
   ],
   "source": [
    "query = \"什么是WTF Langchain？\"\n",
    "docs = db.similarity_search(query)\n",
    "docs"
   ]
  },
  {
   "cell_type": "code",
   "execution_count": 15,
   "metadata": {
    "id": "bAa13Y7DM-rO"
   },
   "outputs": [
    {
     "data": {
      "text/plain": [
       "[(Document(metadata={'source': './data/README.md'}, page_content='import os\\nos.environ[\\'ZHIPUAI_API_KEY\\'] = \\'您的有效ZhipuAI API Key\\'\\n\\nchat = ChatZhipuAI(temperature=0, model=\"glm-4\")\\nresponse = chat([ HumanMessage(content=\"Hello Langchain!\") ])\\nprint(response)\\n```\\n\\n你应该能看到类似这样的输出：\\n\\n```shell\\ncontent=\\'Hello! How can I assist you today? If you have any questions or need information on a topic, feel free to ask.\\' additional_kwargs={} response_metadata={\\'token_usage\\': {\\'completion_tokens\\': 28, \\'prompt_tokens\\': 9, \\'total_tokens\\': 37}, \\'model_name\\': \\'glm-4\\', \\'finish_reason\\': \\'stop\\'} id=\\'run-e0f8ccbf-9518-4ac4-ba44-946ca817fc14-0\\'\\n```\\n\\n我们拆解程序，学习该代码的结构：\\n\\n1. 以下系统命令安装必要的Python包，langchain和ZhipuAI。\\n\\n  ```shell\\n  pip install langchain==0.3.7 zhipuai==2.1.5.20230904 langchain-community==0.3.5 langchain-core==0.3.15 -q -U\\n  ```\\n\\n2. 以下代码将ZhipuAI的API Key设置在环境变量中。默认情况下，Langchain会从环境变量 `ZhipuAI_API_KEY` 中读取API Key。注意，在代码中直接嵌入API Key明文并不安全，切勿将API Key直接提交到代码仓库。我们建议利用.env文件和python-dotenv包来管理API Key。'),\n",
       "  316.44171142578125),\n",
       " (Document(metadata={'source': './data/README.md'}, page_content='---\\ntitle: 01. Hello Langchain\\ntags:\\n  - zhipuai\\n  - llm\\n  - langchain\\n---\\n\\n# Langchain极简入门: 01. Hello Langchain\\n\\n最近在学习Langchain框架，顺手写一个“WTF Langchain极简入门”，供小白们使用（编程大佬可以另找教程）。本教程默认以下前提：\\n- 使用Python版本的[Langchain](https://github.com/hwchase17/langchain)\\n- LLM使用ChatZhipuAI的模型\\n- Langchain目前还处于快速发展阶段，版本迭代频繁，为避免示例代码失效，本教程统一使用版本 **0.3.7**\\n\\n根据Langchain的[代码约定](https://github.com/hwchase17/langchain/blob/v0.0.235/pyproject.toml#L14C1-L14C24)，Python版本 \">=3.8.1,<4.0\"。\\n\\n推特：[@verysmallwoods](https://twitter.com/verysmallwoods)\\n\\n所有代码和教程开源在github: [github.com/sugarforever/wtf-langchain](https://github.com/sugarforever/wtf-langchain)\\n\\n-----\\n\\n## Langchain 简介\\n\\n大型语言模型（LLM）正在成为一种具有变革性的技术，使开发人员能够构建以前无法实现的应用程序。然而，仅仅依靠LLM还不足以创建一个真正强大的应用程序。它还需要其他计算资源或知识来源。\\n\\n`Langchain` 旨在帮助开发这些类型应用程序，比如：\\n- 基于文档数据的问答\\n- 聊天机器人\\n- 代理\\n\\n## ZhipuAI 简介\\n\\n`ZhipuAI` 是LLM生态的模型层最大的玩家之一。大家目前熟知的 *GLM-3*，*GLM-4* 等模型都是ZhipuAI的产品。它的API允许开发人员通过简单的API调用来访问这些模型。\\n\\n## Langchain与ZhipuAI\\n\\n`Langchain` 作为一个开源框架，提供与ZhipuAI等语言模型的接口，简化了在应用程序中集成和利用语言模型能力的过程。'),\n",
       "  321.1988525390625),\n",
       " (Document(metadata={'source': './data/README.md'}, page_content='```python\\n  import os\\n  os.environ[\\'ZHIPUAI_API_KEY\\'] = \\'您的有效ZhipuAI API Key\\'\\n  ```\\n\\n3. 以下代码导入了 `ChatZhipuAI` 类，该类封装了ZhipuAI的聊天模型。`ChatZhipuAI` 类的初始化参数 `temperature` 用于控制模型的生成文本的多样性。`temperature` 越大，生成的文本越多样，但也越不可控。`temperature` 越小，生成的文本越单一，但也越可控。`temperature` 的取值范围为 0 到 1，默认值为 0.5。初始化参数 `model_name` 用于指定使用的模型，默认值为 `gpt-3.5-turbo`。\\n\\n  ```python\\n  chat = ChatZhipuAI(temperature=0, model=\"glm-4\")\\n  ```\\n\\n4. 以下代码完成与ZhipuAI GPT模型的第一次对话，并打印出响应。\\n\\n  ```python\\n  response = chat([ HumanMessage(content=\"Hello Langchain!\") ])\\n  print(response)\\n  ```\\n\\n## 运行代码\\n\\n在 Google Colab 的页面，在每一个代码块，按 Ctrl/Cmd + Enter 即可运行代码，非常方便。\\n\\n![](./hello_langchain.png)\\n\\n## 总结\\n本节课程中，我们简要介绍了 `Langchain`，`ZhipuAI` 以及它们的关系，并完成了第一个 `Langchain` 应用 —— `Hello Langchain`。\\n\\n### 相关文档资料链接：\\n1. [Python Langchain官方文档](https://python.langchain.com/docs/get_started/introduction.html)'),\n",
       "  324.871826171875),\n",
       " (Document(metadata={'source': './data/README.md'}, page_content='## 开发前的准备\\n\\n在开始第一个Langchain应用程序之前，我们需要做一些必要的准备。\\n\\n### Google Colab\\n\\n本教程中，我们将使用 `Google Colab` 在云端运行 `Python` 代码。Google Colab（全称Google Colaboratory）是一个由Google提供的云端开发环境，用于数据分析、机器学习和深度学习任务。它基于Jupyter Notebook，提供了一个免费的、云端的Python编程环境，用户可以直接在浏览器中编写和执行Python代码。\\n\\n网址：[https://colab.research.google.com/](https://colab.research.google.com/)\\n\\n![Google Colab](./google_colab.png)\\n\\n无法使用Google Colab的同学，可以使用Visual Studio Code配合Jupyter插件在本地运行代码。\\n\\n### ZhipuAI API Key\\n\\n在Langchain应用中使用ZhipuAI的模型，我们需要一个API Key。点击[https://bigmodel.cn/usercenter/apikeys](https://bigmodel.cn/usercenter/apikeys)创建你的API Key。\\n\\n## 第一个 Langchain 应用\\n\\n这个简单的程序只有 1 行安装指令和 7 行代码：\\n\\n### 安装指令\\n\\n```shell\\npip install langchain==0.3.7 zhipuai==2.1.5.20230904 langchain-community==0.3.5 langchain-core==0.3.15 -q -U\\n```\\n\\n### 代码\\n\\n[Hello_Langchain.ipynb](./Hello_Langchain.ipynb)\\n\\n```python\\nfrom langchain_community.chat_models import ChatZhipuAI\\nfrom langchain_core.messages import AIMessage, HumanMessage, SystemMessage'),\n",
       "  385.7286682128906)]"
      ]
     },
     "execution_count": 15,
     "metadata": {},
     "output_type": "execute_result"
    }
   ],
   "source": [
    "docs = db.similarity_search_with_score(query)\n",
    "docs"
   ]
  }
 ],
 "metadata": {
  "colab": {
   "authorship_tag": "ABX9TyOgQoOin53yoGqil3iR6M6W",
   "include_colab_link": true,
   "provenance": []
  },
  "kernelspec": {
   "display_name": "langchain",
   "language": "python",
   "name": "langchain"
  },
  "language_info": {
   "codemirror_mode": {
    "name": "ipython",
    "version": 3
   },
   "file_extension": ".py",
   "mimetype": "text/x-python",
   "name": "python",
   "nbconvert_exporter": "python",
   "pygments_lexer": "ipython3",
   "version": "3.9.20"
  }
 },
 "nbformat": 4,
 "nbformat_minor": 4
}
