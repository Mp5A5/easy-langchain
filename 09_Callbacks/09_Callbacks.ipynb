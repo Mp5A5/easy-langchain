{
 "cells": [
  {
   "cell_type": "markdown",
   "metadata": {
    "colab_type": "text",
    "id": "view-in-github"
   },
   "source": [
    "<a href=\"https://colab.research.google.com/github/sugarforever/wtf-langchain/blob/main/09_Callbacks/09_Callbacks.ipynb\" target=\"_parent\"><img src=\"https://colab.research.google.com/assets/colab-badge.svg\" alt=\"Open In Colab\"/></a>"
   ]
  },
  {
   "cell_type": "markdown",
   "metadata": {
    "id": "GIUvp6uXWAcn"
   },
   "source": [
    "# LangChain Callback 示例"
   ]
  },
  {
   "cell_type": "markdown",
   "metadata": {
    "id": "h4Ps0wdmWFGh"
   },
   "source": [
    "## 准备环境"
   ]
  },
  {
   "cell_type": "code",
   "execution_count": null,
   "metadata": {},
   "outputs": [],
   "source": [
    "pip install langchain==0.3.7\n",
    "pip install langchain-chroma==0.1.4\n",
    "pip install langchain-community==0.3.5\n",
    "pip install langchain-core==0.3.18\n",
    "pip install langchain-huggingface==0.1.2\n",
    "pip install langchain-ollama==0.2.0\n",
    "pip install langchain-openai==0.2.8\n",
    "pip install langchain-text-splitters==0.3.2"
   ]
  },
  {
   "cell_type": "markdown",
   "metadata": {
    "id": "i0wXx4wfWIjF"
   },
   "source": [
    "## 示例代码"
   ]
  },
  {
   "cell_type": "markdown",
   "metadata": {
    "id": "lEPqka5QWcph"
   },
   "source": [
    "1. 内置回调处理器 `StdOutCallbackHandler`"
   ]
  },
  {
   "cell_type": "code",
   "execution_count": 13,
   "metadata": {
    "colab": {
     "base_uri": "https://localhost:8080/",
     "height": 202
    },
    "id": "jhoNdmhQs1J3",
    "outputId": "3e110c89-750d-4f64-c0b9-8bc49bb24895"
   },
   "outputs": [
    {
     "data": {
      "text/plain": [
       "'Super Mario is one of the most iconic video game characters in history, created by Nintendo. He first appeared in 1985 as the protagonist of \"Super Mario Bros.\" for the Nintendo Entertainment System (NES). The character was originally named \"Jumpman\" but was later renamed to Mario after the Italian plumber Mr. Video Game designer Shigeru Miyamoto chose the name.\\n\\nMario is typically depicted wearing a red hat and overalls with blue suspenders, and he has brown hair and a bushy moustache. He\\'s known for his ability to jump very high and far, which helps him rescue Princess Peach from the clutches of Bowser, the main antagonist in many Mario games. Over time, Super Mario has appeared in numerous video games across various Nintendo platforms, including handheld devices like the Game Boy and more recent consoles such as the Switch.\\n\\nIn addition to platformers, Mario also stars in other game genres, such as racing (Mario Kart series), sports (Mario Tennis, Mario Golf), puzzle-solving (Super Mario 3D World), and role-playing games. The character has become a cultural icon and is one of Nintendo\\'s most recognizable mascots worldwide.'"
      ]
     },
     "execution_count": 13,
     "metadata": {},
     "output_type": "execute_result"
    }
   ],
   "source": [
    "from langchain_core.callbacks import StdOutCallbackHandler\n",
    "from langchain.chains import LLMChain\n",
    "from langchain_ollama import OllamaLLM\n",
    "from langchain_core.prompts import PromptTemplate\n",
    "from langchain_core.output_parsers import StrOutputParser\n",
    "\n",
    "handler = StdOutCallbackHandler()\n",
    "llm = OllamaLLM(temperature=0, model=\"qwen2.5:14b\", callbacks=[handler])\n",
    "template = \"Who is {name}?\"\n",
    "prompt = PromptTemplate(template=template, input_variables=['name'])\n",
    "# chain = LLMChain(llm=llm, prompt=prompt, callbacks=[handler])\n",
    "# chain.invoke(\"Super Mario\")\n",
    "chain = prompt | llm | StrOutputParser()\n",
    "chain.invoke(\"Super Mario\")"
   ]
  },
  {
   "cell_type": "markdown",
   "metadata": {
    "id": "NS9I0GYhs4Ny"
   },
   "source": [
    "2. 自定义回调处理器\n",
    "\n",
    "我们来实现一个处理器，统计每次 `LLM` 交互的处理时间。"
   ]
  },
  {
   "cell_type": "code",
   "execution_count": 10,
   "metadata": {
    "id": "WJQTUyrnwIf6"
   },
   "outputs": [],
   "source": [
    "from langchain_core.callbacks.base import BaseCallbackHandler\n",
    "import time\n",
    "\n",
    "class TimerHandler(BaseCallbackHandler):\n",
    "\n",
    "    def __init__(self) -> None:\n",
    "        super().__init__()\n",
    "        self.previous_ms = None\n",
    "        self.durations = []\n",
    "\n",
    "    def current_ms(self):\n",
    "        return int(time.time() * 1000 + time.perf_counter() % 1 * 1000)\n",
    "\n",
    "    def on_chain_start(self, serialized, inputs, **kwargs) -> None:\n",
    "        self.previous_ms = self.current_ms()\n",
    "\n",
    "    def on_chain_end(self, outputs, **kwargs) -> None:\n",
    "        if self.previous_ms:\n",
    "          duration = self.current_ms() - self.previous_ms\n",
    "          self.durations.append(duration)\n",
    "\n",
    "    def on_llm_start(self, serialized, prompts, **kwargs) -> None:\n",
    "        self.previous_ms = self.current_ms()\n",
    "\n",
    "    def on_llm_end(self, response, **kwargs) -> None:\n",
    "        if self.previous_ms:\n",
    "          duration = self.current_ms() - self.previous_ms\n",
    "          self.durations.append(duration)"
   ]
  },
  {
   "cell_type": "code",
   "execution_count": 14,
   "metadata": {
    "colab": {
     "base_uri": "https://localhost:8080/"
    },
    "id": "B7Y9E34VPObp",
    "outputId": "5d5f7945-8ad2-43ce-ce52-b6787ae61dac"
   },
   "outputs": [
    {
     "name": "stdout",
     "output_type": "stream",
     "text": [
      " The HEX code for the color blue can vary depending on which specific shade of blue you're referring to, but one common representation of blue in web design and digital contexts is #0000FF or a lighter variant like #ADD8E6. If you are looking for a particular shade of blue, please specify!\n",
      " The HEX code for the color purple can vary depending on which specific shade of purple you're referring to, but one common representation of purple in web design and digital contexts is #800080. This is a medium shade of purple often referred to as \"purple\" or \"web purple.\" If you need a different shade of purple, please specify the tone or provide more details!\n"
     ]
    },
    {
     "data": {
      "text/plain": [
       "[]"
      ]
     },
     "execution_count": 14,
     "metadata": {},
     "output_type": "execute_result"
    }
   ],
   "source": [
    "llm = OllamaLLM(temperature=0, model=\"qwen2.5:14b\", callbacks=[handler])\n",
    "timerHandler = TimerHandler()\n",
    "prompt = PromptTemplate.from_template(\"What is the HEX code of color {color_name}?\")\n",
    "chain = prompt | llm\n",
    "response = chain.invoke(input=\"blue\")\n",
    "print(response)\n",
    "response = chain.invoke(input=\"purple\")\n",
    "print(response)\n",
    "\n",
    "timerHandler.durations"
   ]
  }
 ],
 "metadata": {
  "colab": {
   "authorship_tag": "ABX9TyMDQAGwDnmThXqSHdNwTwvq",
   "include_colab_link": true,
   "provenance": []
  },
  "kernelspec": {
   "display_name": "langchain",
   "language": "python",
   "name": "langchain"
  },
  "language_info": {
   "codemirror_mode": {
    "name": "ipython",
    "version": 3
   },
   "file_extension": ".py",
   "mimetype": "text/x-python",
   "name": "python",
   "nbconvert_exporter": "python",
   "pygments_lexer": "ipython3",
   "version": "3.9.20"
  }
 },
 "nbformat": 4,
 "nbformat_minor": 4
}
