{
 "cells": [
  {
   "cell_type": "markdown",
   "metadata": {
    "colab_type": "text",
    "id": "view-in-github"
   },
   "source": [
    "<a href=\"https://colab.research.google.com/github/sugarforever/wtf-langchain/blob/main/02_Models/Models.ipynb\" target=\"_parent\"><img src=\"https://colab.research.google.com/assets/colab-badge.svg\" alt=\"Open In Colab\"/></a>"
   ]
  },
  {
   "cell_type": "code",
   "execution_count": null,
   "metadata": {
    "id": "F3PJ9w-JGMbL"
   },
   "outputs": [],
   "source": [
    "pip install langchain==0.3.7\n",
    "pip install langchain-chroma==0.1.4\n",
    "pip install langchain-community==0.3.5\n",
    "pip install langchain-core==0.3.18\n",
    "pip install langchain-huggingface==0.1.2\n",
    "pip install langchain-ollama==0.2.0\n",
    "pip install langchain-openai==0.2.8\n",
    "pip install langchain-text-splitters==0.3.2"
   ]
  },
  {
   "cell_type": "markdown",
   "metadata": {},
   "source": [
    "### LLM 模型"
   ]
  },
  {
   "cell_type": "code",
   "execution_count": 4,
   "metadata": {},
   "outputs": [
    {
     "data": {
      "text/plain": [
       "'AI，即人工智能（Artificial Intelligence），是指由人制造出来的具有一定智能的系统，它能够通过感知环境并采取行动来实现特定的目标。这些目标可以是解决问题、模式识别、语言处理等任务。\\n\\nAI的研究领域包括但不限于机器学习、深度学习、自然语言处理、计算机视觉和机器人技术。随着计算能力的进步以及大数据的发展，人工智能在近年来取得了显著进展，并被广泛应用于各个行业，如医疗健康、金融服务、教育、交通等领域，极大地提高了效率并创造了新的可能性。\\n\\n简而言之，AI是让机器能够执行通常需要人类智能才能完成的任务的技术集合。'"
      ]
     },
     "execution_count": 4,
     "metadata": {},
     "output_type": "execute_result"
    }
   ],
   "source": [
    "from langchain_ollama import OllamaLLM\n",
    "llm = OllamaLLM(temperature=0, model=\"qwen2.5:14b\")\n",
    "llm.invoke(\"什么是 AI?\")"
   ]
  },
  {
   "cell_type": "markdown",
   "metadata": {},
   "source": [
    "### chat 模型"
   ]
  },
  {
   "cell_type": "markdown",
   "metadata": {},
   "source": [
    "#### ChatOpenAI 模型"
   ]
  },
  {
   "cell_type": "code",
   "execution_count": 5,
   "metadata": {
    "colab": {
     "base_uri": "https://localhost:8080/"
    },
    "id": "7t2nQzTEGXy1",
    "outputId": "addb81a7-e130-4bc7-dfa3-51e43197dbf6"
   },
   "outputs": [
    {
     "name": "stdout",
     "output_type": "stream",
     "text": [
      "content='AI，即人工智能（Artificial Intelligence），是指由人制造出来的具有一定智能的系统，它能够通过感知环境并采取行动来实现特定的目标。这些目标可以是解决问题、模式识别、语言处理等任务。\\n\\nAI的研究领域包括但不限于机器学习、深度学习、自然语言处理、计算机视觉和机器人技术。随着计算能力的进步以及大数据的发展，人工智能在近年来取得了显著进展，并被广泛应用于各个行业，如医疗健康、金融服务、教育、交通等领域，极大地提高了效率并创造了新的可能性。\\n\\n简而言之，AI是让机器能够执行通常需要人类智能才能完成的任务的技术集合。' additional_kwargs={'refusal': None} response_metadata={'token_usage': {'completion_tokens': 128, 'prompt_tokens': 36, 'total_tokens': 164, 'completion_tokens_details': None, 'prompt_tokens_details': None}, 'model_name': 'qwen2.5:14b', 'system_fingerprint': 'fp_ollama', 'finish_reason': 'stop', 'logprobs': None} id='run-ddd446c2-8e37-4b62-899b-3c489556a82e-0' usage_metadata={'input_tokens': 36, 'output_tokens': 128, 'total_tokens': 164, 'input_token_details': {}, 'output_token_details': {}}\n"
     ]
    }
   ],
   "source": [
    "from langchain_openai import ChatOpenAI\n",
    "from langchain_core.messages import AIMessage, HumanMessage, SystemMessage\n",
    "\n",
    "chat = ChatOpenAI(temperature=0, model_name=\"qwen2.5:14b\", openai_api_key='随便写都可以', openai_api_base='http://localhost:11434/v1')\n",
    "response = chat.invoke([\n",
    "  HumanMessage(content=\"什么是 AI?\")\n",
    "])\n",
    "print(response)"
   ]
  },
  {
   "cell_type": "code",
   "execution_count": 6,
   "metadata": {
    "colab": {
     "base_uri": "https://localhost:8080/"
    },
    "id": "Z7En92dhwD0h",
    "outputId": "332773f9-0c22-40bf-9b7a-71d78cd18e68"
   },
   "outputs": [
    {
     "data": {
      "text/plain": [
       "langchain_core.messages.ai.AIMessage"
      ]
     },
     "execution_count": 6,
     "metadata": {},
     "output_type": "execute_result"
    }
   ],
   "source": [
    "response.__class__"
   ]
  },
  {
   "cell_type": "code",
   "execution_count": 7,
   "metadata": {
    "colab": {
     "base_uri": "https://localhost:8080/"
    },
    "id": "ssIbQXyyq4Rk",
    "outputId": "e95da07f-e094-4b4b-cead-3f912f07a8ca"
   },
   "outputs": [
    {
     "name": "stdout",
     "output_type": "stream",
     "text": [
      "content='我不知道。' additional_kwargs={'refusal': None} response_metadata={'token_usage': {'completion_tokens': 3, 'prompt_tokens': 46, 'total_tokens': 49, 'completion_tokens_details': None, 'prompt_tokens_details': None}, 'model_name': 'qwen2.5:14b', 'system_fingerprint': 'fp_ollama', 'finish_reason': 'stop', 'logprobs': None} id='run-786599c0-7b24-4b8f-a56e-2dccaa5cee42-0' usage_metadata={'input_tokens': 46, 'output_tokens': 3, 'total_tokens': 49, 'input_token_details': {}, 'output_token_details': {}}\n"
     ]
    }
   ],
   "source": [
    "response = chat.invoke([\n",
    "  SystemMessage(content=\"你是一个对人工智能一无所知的聊天机器人。当被问及人工智能时，你必须说 '我不知道。'\"),\n",
    "  HumanMessage(content=\"什么是深度学习？\")\n",
    "])\n",
    "print(response)"
   ]
  },
  {
   "cell_type": "markdown",
   "metadata": {},
   "source": [
    "#### ChatOllama 模型"
   ]
  },
  {
   "cell_type": "code",
   "execution_count": 8,
   "metadata": {},
   "outputs": [
    {
     "name": "stdout",
     "output_type": "stream",
     "text": [
      "content='AI，即人工智能（Artificial Intelligence），是指由人制造出来的具有一定智能的系统，它能够通过感知环境并采取行动来实现特定的目标。这些目标可以是解决问题、模式识别、语言处理等任务。\\n\\nAI的研究领域包括但不限于机器学习、深度学习、自然语言处理、计算机视觉和机器人技术。随着计算能力的进步以及大数据的发展，人工智能在近年来取得了显著进展，并被广泛应用于各个行业，如医疗健康、金融服务、教育、交通等领域，极大地提高了效率并创造了新的可能性。\\n\\n简而言之，AI是让机器能够执行通常需要人类智能才能完成的任务的技术集合。' additional_kwargs={} response_metadata={'model': 'qwen2.5:14b', 'created_at': '2024-11-19T04:30:23.903399Z', 'message': {'role': 'assistant', 'content': ''}, 'done_reason': 'stop', 'done': True, 'total_duration': 10477634209, 'load_duration': 18427584, 'prompt_eval_count': 36, 'prompt_eval_duration': 1479784000, 'eval_count': 128, 'eval_duration': 8974443000} id='run-c2852a52-a8f3-4fc1-8dbd-2247649d22df-0' usage_metadata={'input_tokens': 36, 'output_tokens': 128, 'total_tokens': 164}\n"
     ]
    }
   ],
   "source": [
    "from langchain_ollama import ChatOllama\n",
    "from langchain_core.messages import AIMessage, HumanMessage, SystemMessage\n",
    "\n",
    "chat = ChatOllama(temperature=0, model=\"qwen2.5:14b\")\n",
    "response = chat.invoke([\n",
    "  HumanMessage(content=\"什么是 AI?\")\n",
    "])\n",
    "print(response)"
   ]
  },
  {
   "cell_type": "code",
   "execution_count": 9,
   "metadata": {},
   "outputs": [
    {
     "data": {
      "text/plain": [
       "langchain_core.messages.ai.AIMessage"
      ]
     },
     "execution_count": 9,
     "metadata": {},
     "output_type": "execute_result"
    }
   ],
   "source": [
    "response.__class__"
   ]
  },
  {
   "cell_type": "code",
   "execution_count": 10,
   "metadata": {},
   "outputs": [
    {
     "name": "stdout",
     "output_type": "stream",
     "text": [
      "content='我不知道。' additional_kwargs={} response_metadata={'model': 'qwen2.5:14b', 'created_at': '2024-11-19T04:30:33.959417Z', 'message': {'role': 'assistant', 'content': ''}, 'done_reason': 'stop', 'done': True, 'total_duration': 1195592958, 'load_duration': 25363875, 'prompt_eval_count': 46, 'prompt_eval_duration': 1027686000, 'eval_count': 3, 'eval_duration': 138123000} id='run-ef068c29-7235-4eef-a6f3-c43035bfef46-0' usage_metadata={'input_tokens': 46, 'output_tokens': 3, 'total_tokens': 49}\n"
     ]
    }
   ],
   "source": [
    "response = chat.invoke([\n",
    "  SystemMessage(content=\"你是一个对人工智能一无所知的聊天机器人。当被问及人工智能时，你必须说 '我不知道。'\"),\n",
    "  HumanMessage(content=\"什么是深度学习？\")\n",
    "])\n",
    "print(response)"
   ]
  }
 ],
 "metadata": {
  "colab": {
   "authorship_tag": "ABX9TyNDb1VJ0bhh4X+zrRM1TDh8",
   "include_colab_link": true,
   "provenance": []
  },
  "kernelspec": {
   "display_name": "langchain",
   "language": "python",
   "name": "langchain"
  },
  "language_info": {
   "codemirror_mode": {
    "name": "ipython",
    "version": 3
   },
   "file_extension": ".py",
   "mimetype": "text/x-python",
   "name": "python",
   "nbconvert_exporter": "python",
   "pygments_lexer": "ipython3",
   "version": "3.9.20"
  }
 },
 "nbformat": 4,
 "nbformat_minor": 4
}
